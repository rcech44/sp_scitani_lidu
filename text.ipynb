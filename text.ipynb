{
 "cells": [
  {
   "cell_type": "markdown",
   "metadata": {},
   "source": [
    "# Semestrální práce - Radomír Čech\n",
    "\n",
    "Analýza dat sčítání lidu 2021"
   ]
  },
  {
   "cell_type": "markdown",
   "metadata": {},
   "source": [
    "### Dostupnost dat"
   ]
  },
  {
   "cell_type": "markdown",
   "metadata": {},
   "source": [
    "- jedná se o otevřená data, vysvětlení otevřených dat\n",
    "- primárně jsou data rozdělená podle typů územních úrovní, některé více do podrobna, některé méně, témata (data) jsou ale stejná\n",
    "- data jsou strukturovaná do CSV souborů s techinickými schématy v podobě JSON souborů, které obsahují vysvětlení atributů a jejich datové typy\n",
    "- CSV formát je určité jednodušší pro práci s daty, ale vyžaduje stažení všech dat (oproti API, kde je moźné si stáhnout určitou část dat)\n",
    "- není dostupný žádný náhled dat pro představu"
   ]
  },
  {
   "cell_type": "markdown",
   "metadata": {},
   "source": [
    "### Struktura dat"
   ]
  },
  {
   "cell_type": "markdown",
   "metadata": {},
   "source": [
    "- jedná se o CSV soubory, neboli textový soubor s hodnotami oddělenými oddělovačem, v tomto případě čárkou\n",
    "- soubory jsou různé velikosti, občas desítky KB, občas desítky MB\n",
    "- data lze otevřít v jakémkoli textovém editoru, ale je vhodné je převést do prezentovatelné podoby (např. tabulky)\n",
    "- nejjednodušším nástrojem je pravděpodobně MS Excel\n",
    "    - dokáže zobrazit náhled CSV souboru v původní textové podobě\n",
    "    - pro převod do tabulkové podoby je nutné otevřít prázdný sešit a v kartě \"Data\" použít \"Z textu/CSV\"\n",
    "    - někdy nutné nastavit kódování na UTF-8 a správný oddělovač (čárka)\n",
    "    - v závislosti na velikosti datasetu se mohou data převádět i několik minut\n",
    "    - výsledkem je kontigenční tabulka, která podporuje filtrování a jiné funkce\n",
    "- pro programátorské řešení jsem využil databázový systém\n",
    "    - pokud je třeba v datech vyhledávat programově, není CSV vhodný a efektivní formát, protože by vyžadoval sekvenční průchod všech dat\n",
    "    - bylo rozhodnuto o využití NoSQL databázového systému MongoDB, NoSQL je vhodné díky rychlosti práce s daty + data neobsahují vzájemné relace\n",
    "    - porovnání dat v CSV formátu a NoSQL formátu\n",
    "        - příklad: obyvatelstvo podle pohlaví a pětiletých věkových skupin\n",
    "            - velikost původních CSV dat: 65,5 MB\n",
    "            - velikost kontigenční tabulky v MS Excel: 29 MB (o 56 % menší)\n",
    "            - velikost MongoDB kolekce + index: 20,7 + 4,6 = 25,3 MB (o 62 % menší)"
   ]
  },
  {
   "cell_type": "markdown",
   "metadata": {},
   "source": [
    "### Analýza a práce s daty"
   ]
  },
  {
   "cell_type": "markdown",
   "metadata": {},
   "source": [
    "- pro jednodušší operace je vhodné používat kontigenční tabulku v MS Excel\n",
    "    - např. zjištění nejlidnatějšího kraje\n",
    "- pro náročnější operace je vhodné používat programátorské řešení přes MongoDB\n",
    "    - např. ...\n",
    "    - pro procházení dat v databázi se doporučuje program přímo od tvůrců MongoDB - MongoDB Compass, který je dostupný na Windows, MacOS a Linux\n",
    "- atributy v každém datasetu se mohou mírně lišit, zde je příklad atributů v datasetu \"Obyvatelstvo podle věku a pohlaví\":\n",
    "\n",
    "    | SLOUPEC     | VÝZNAM                                                                                                                   |\n",
    "    |-------------|--------------------------------------------------------------------------------------------------------------------------|\n",
    "    | idhod       | unikátní   identifikátor údaje Veřejné databáze ČSÚ                                                                      |\n",
    "    | hodnota     | zjištěná   hodnota                                                                                                       |\n",
    "    | ukaz_kod    | kód   ukazatele (statistické proměnné)                                                                                   |\n",
    "    | vek_cis     | číselník   pro věkovou skupinu; pokud není uveden, jedná se o celkový údaj bez rozlišení   věkové skupiny                |\n",
    "    | vek_kod     | kód   položky z číselníku pro věkovou skupinu; pokud není uveden, jedná se o   celkový údaj bez rozlišení věkové skupiny |\n",
    "    | pohlavi_cis | číselník   pro pohlaví; pokud není uveden, jedná se o celkový údaj bez rozlišení pohlaví                                 |\n",
    "    | pohlavi_kod | kód   položky z číselníku pro pohlaví; pokud není uveden, jedná se o celkový údaj   bez rozlišení pohlaví                |\n",
    "    | uzemi_cis   | kód   číselníku pro území                                                                                                |\n",
    "    | uzemi_kod   | kód   položky číselníku pro území                                                                                        |\n",
    "    | sldb_rok    | rok   sčítání ve formátu YYYY                                                                                            |\n",
    "    | sldb_datum  | rozhodné   datum sčítání ve formátu YYYY-MM-DD                                                                           |\n",
    "    | ukaz_txt    | text   ukazatele                                                                                                         |\n",
    "    | vek_txt     | text   položky z číselníku pro věkovou skupinu                                                                           |\n",
    "    | pohlavi_txt | text   položky z číselníku pro pohlaví                                                                                   |\n",
    "    | uzemi_txt   | text   položky z číselníku pro území                                                                                     |\n",
    "\n",
    "<br>\n",
    "\n",
    "- problematické mohou být atributy jako `vek_kod` nebo `uzemi_cis`, tyto atributy obsahují CIS hodnoty reprezentující hodnotu z daného číselníku\n",
    "    - např. `uzemi_cis` popisuje územní úroveň dané hodnoty (třeba okres, kraj...), takže pokud chceme pracovat třeba s daty okresů, musíme znát tyto hodnoty a podle nich filtrovat\n",
    "    - některé z těchto atributů mají v datech i svůj textový popis, např. `uzemi_kod`, který má hodnotu '500011', má svůj slovný popis v atributu `uzemi_txt` s hodnotou 'Želechovice nad Dřevnicí'\n",
    "    - některé atributy nemají žádný textový popis, např. `uzemi_cis`\n",
    "    - příklad hodnot pro `uzemi_cis` a jejich vysvětlení:\n",
    "\n",
    "        | KÓD | NÁZEV                                       |\n",
    "        |-----|---------------------------------------------|\n",
    "        | 97  | Stát                                        |\n",
    "        | 99  | Region soudržnosti                          |\n",
    "        | 100 | Kraj                                        |\n",
    "        | 101 | Okres                                       |\n",
    "        | 65  | Správní obvody obcí s rozšířenou působností |\n",
    "        | 72  | Správní obvod v hlavním městě Praze         |\n",
    "        | 43  | Obec a vojenský újezd                       |\n",
    "        | 44  | Městský obvod, městská část                 |\n",
    "\n",
    "<br>\n",
    "\n",
    "- každý záznam obsahuje také své vlastní unikátní ID, to ale není nijak využitelné v našem případě\n",
    "- některé záznamy obsahují prázdné hodnoty, to má svůj význam, např. když atribut `pohlavi_kod` má prázndnou hodnotu, znamená to, že tento záznam uchovává hodnotu pro všechna pohlaví (hodnota za muže a ženy dohromady), to samé platí i např. pro `vek_kod`\n",
    "- některé atributy jsou trochu matoucí, atributy `ukaz_kod`, `vek_cis`, `pohlavi_cis` jsou vždy stejné, tudíž nepředstavují žádný význam pro tento dataset (\"Obyvatelstvo podle věku a pohlaví\"), navíc nejsou čitelné, protože se jedná o kódy, to se ale může lišit v jiných datasetech\n",
    "- také se opakuje atribut `sldb_rok`, který představuje rok sběru dat, ačkoli má tento atribut také pouze jednu hodnotu, může aspoň připomenout uživateli o jaký rok se jedná\n",
    "- nejdůležitějším atributem je atribut `hodnota`, který obsahuje hodnotu daného záznamu (např. počet lidí s danou vlastností)"
   ]
  },
  {
   "cell_type": "markdown",
   "metadata": {},
   "source": [
    "### Analýza datasetu \"Obyvatelstvo podle pětiletých věkových skupin a pohlaví\""
   ]
  },
  {
   "cell_type": "markdown",
   "metadata": {},
   "source": [
    "##### Základní data"
   ]
  },
  {
   "cell_type": "markdown",
   "metadata": {},
   "source": [
    "- celkový počet obyvatel: 10,524,167\n",
    "    - celkový počet žen: 5,337,619 (50,72 % z celkového počtu)\n",
    "    - celkový počet mužů: 5,168,548 (49,28 % z celkového počtu)\n",
    "- celkový počet obyvatel podle věkových fází a pohlaví:\n",
    "    - děti (0-9 let)\n",
    "        - celkem: 1,110,656 (10,55 % z celkového počtu)\n",
    "            - ženy: 541,695 (48,7 % z celkových dětí)\n",
    "            - muži: 568,961 (51,3 % z celkových dětí)\n",
    "    - dospívání (10-19 let)\n",
    "        - celkem: 1,070,940 (10,18 % z celkového počtu)\n",
    "            - ženy: 522,033 (48,7 % z celkového počtu dospívajících)\n",
    "            - muži: 548,907 (51,3 % z celkového počtu dospívajících)\n",
    "    - dospělí (20-59 let)\n",
    "        - celkem: 5,577,915 (53 % z celkového počtu)\n",
    "            - ženy: 2,713,576 (48,6 % z celkového počtu dospělých)\n",
    "            - muži: 2,864,339 (51,4 % z celkového počtu dospělých)\n",
    "    - staří (60 a více)\n",
    "        - celkem: 2,764,656 (26,27 % z celkového počtu)\n",
    "            - ženy: 1,560,315 (56,4 % z celkového počtu starších)\n",
    "            - muži: 1,204,341 (43,6 % z celkového počtu starších)\n",
    "\n",
    "- poměr počtu obyvatel v pozdním věku podle pohlaví a věku:\n",
    "    - 50 - 59 let:\n",
    "        - ženy: 668,842 (49,4 %)\n",
    "        - muži: 685,659 (50,6 %)\n",
    "    - 60 - 69 let:\n",
    "        - ženy: 672,176 (52,3 %)\n",
    "        - muži: 612,513 (47,7 %)\n",
    "    - 70 - 79 let:\n",
    "        - ženy: 595,034 (57,3 %)\n",
    "        - muži: 442,963 (42,7 %)\n",
    "    - 80 - 89 let:\n",
    "        - ženy: 245,967 (64,9 %)\n",
    "        - muži: 132,717 (35,1 %)\n",
    "    - 90 - 99 let:\n",
    "        - ženy: 46,602 (74,4 %)\n",
    "        - muži: 16,037 (25,6 %)\n",
    "    - 100 a více let\n",
    "        - ženy: 536 (82,8 %)\n",
    "        - muži: 111 (17,2 %)\n",
    "\n",
    "- ačkoli je celkový počet žen větší než počet mužů, počet mužů do věku cca 60 je stále vyšší než počet žen, od pozdního věku (60+) je počet žen drasticky vyšší a lze spatřit, že se ženy dožívají vyššího věku, ve věku 90+ je žen téměř 3x víc než mužů"
   ]
  }
 ],
 "metadata": {
  "language_info": {
   "name": "python"
  }
 },
 "nbformat": 4,
 "nbformat_minor": 2
}
