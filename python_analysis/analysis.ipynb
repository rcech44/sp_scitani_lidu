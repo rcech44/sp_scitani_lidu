{
 "cells": [
  {
   "cell_type": "markdown",
   "metadata": {},
   "source": [
    "# Analýza věku a pohlaví podle pětiletých věkových skupin"
   ]
  },
  {
   "cell_type": "markdown",
   "metadata": {},
   "source": [
    "### Import knihoven\n"
   ]
  },
  {
   "cell_type": "code",
   "execution_count": 1,
   "metadata": {
    "ExecuteTime": {
     "end_time": "2024-03-02T15:13:04.518383Z",
     "start_time": "2024-03-02T15:13:03.691575Z"
    }
   },
   "outputs": [],
   "source": [
    "import pandas as pd\n",
    "import numpy as np\n",
    "import pymongo\n",
    "import utils.data_loader as data_loader\n",
    "import pprint\n",
    "import json\n",
    "from cis import *"
   ]
  },
  {
   "cell_type": "markdown",
   "metadata": {},
   "source": [
    "### Poznámky"
   ]
  },
  {
   "cell_type": "code",
   "execution_count": 2,
   "metadata": {},
   "outputs": [],
   "source": [
    "# https://www.czso.cz/csu/rso/uzemne_technicke_jednotky\n",
    "# https://scitani.gov.cz/vysledky\n",
    "# https://www.czso.cz/csu/czso/vysledky-scitani-2021-otevrena-data"
   ]
  },
  {
   "cell_type": "markdown",
   "metadata": {},
   "source": [
    "### Pomocné funkce"
   ]
  },
  {
   "cell_type": "code",
   "execution_count": 2,
   "metadata": {
    "ExecuteTime": {
     "end_time": "2024-03-02T15:09:36.459764Z",
     "start_time": "2024-03-02T15:09:36.452104Z"
    }
   },
   "outputs": [],
   "source": [
    "# Tisk čísla s oddělovači čárek\n",
    "def format_with_commas(number):\n",
    "    return \"{:,}\".format(number)\n",
    "\n",
    "# Hezký tisk slovníku pro věk\n",
    "def print_dictionary_ages(text, dict):\n",
    "    print(f\"{text}\")\n",
    "    for key, value in dict.items():\n",
    "        print(f\"\\t=> {key}: {value} ({(value / analysis_result['count'])*100:.2f}%)\")\n",
    "\n",
    "# Hezký tisk slovníku pro věk a pohlaví\n",
    "def print_dictionary_ages_sex(text, dict):\n",
    "    print(f\"{text}\")\n",
    "    for key, value in dict.items():\n",
    "        print(f\"\\t=> {key}:\")\n",
    "        for key, value in value.items():\n",
    "            print(f\"\\t\\t=> {key}: {value}\")"
   ]
  },
  {
   "cell_type": "markdown",
   "metadata": {},
   "source": [
    "### Uložení CSV dat do MongoDB"
   ]
  },
  {
   "cell_type": "code",
   "execution_count": 4,
   "metadata": {},
   "outputs": [],
   "source": [
    "data_loader.load_csv_into_db(\"vek_pohlavi_5\", \"../data_original/sldb2021_vek5_pohlavi.csv\")"
   ]
  },
  {
   "cell_type": "markdown",
   "metadata": {},
   "source": [
    "### Načtení dat do paměti z MongoDB"
   ]
  },
  {
   "cell_type": "code",
   "execution_count": 3,
   "metadata": {
    "ExecuteTime": {
     "end_time": "2024-03-02T15:09:51.831201Z",
     "start_time": "2024-03-02T15:09:45.782263Z"
    }
   },
   "outputs": [],
   "source": [
    "data = data_loader.load_from_db(\"obyvatelstvo_pohlavi_vek_5\")"
   ]
  },
  {
   "cell_type": "markdown",
   "metadata": {},
   "source": [
    "### Analýza"
   ]
  },
  {
   "cell_type": "code",
   "execution_count": 4,
   "metadata": {
    "ExecuteTime": {
     "end_time": "2024-03-02T15:09:56.514624Z",
     "start_time": "2024-03-02T15:09:56.507256Z"
    }
   },
   "outputs": [],
   "source": [
    "# Pomocné CIS kódy\n",
    "cis_vek = {\n",
    "    1100000004: '0 - 4 roky',\n",
    "    1300050009: '5 - 9 let',\n",
    "    1300100014: '10 - 14 let',\n",
    "    1300150019: '15 - 19 let',\n",
    "    1300200024: '20 - 24 let',\n",
    "    1300250029: '25 - 29 let',\n",
    "    1300300034: '30 - 34 let',\n",
    "    1300350039: '35 - 39 let',\n",
    "    1300400044: '40 - 44 let',\n",
    "    1300450049: '45 - 49 let',\n",
    "    1300500054: '50 - 54 let',\n",
    "    1300550059: '55 - 59 let',\n",
    "    1300600064: '60 - 64 let',\n",
    "    1300650069: '65 - 69 let',\n",
    "    1300700074: '70 - 74 let',\n",
    "    1300750079: '75 - 79 let',\n",
    "    1300800084: '80 - 84 let',\n",
    "    1300850089: '85 - 89 let',\n",
    "    1300900094: '90 - 94 let',\n",
    "    1300950099: '95 - 99 let',\n",
    "    1201009999: '100 a více let'\n",
    "}\n",
    "\n",
    "cis_kraje = {\n",
    "    3026: 'Středočeský kraj',\n",
    "    3018: 'Hlavní město Praha',\n",
    "    3115: 'Jihomoravský kraj',\n",
    "    3140: 'Moravskoslezský kraj',\n",
    "    3069: 'Ústecký kraj',\n",
    "    3034: 'Jihočeský kraj',\n",
    "    3123: 'Olomoucký kraj',\n",
    "    3042: 'Plzeňský kraj',\n",
    "    3131: 'Zlínský kraj',\n",
    "    3085: 'Královéhradecký kraj',\n",
    "    3093: 'Pardubický kraj',\n",
    "    3107: 'Kraj Vysočina',\n",
    "    3077: 'Liberecký kraj',\n",
    "    3051: 'Karlovarský kraj'\n",
    "}\n",
    "\n",
    "veky_podle_fazi = {\n",
    "    'deti': ['0 - 4 roky', '5 - 9 let'],\n",
    "    'dospivani': ['10 - 14 let','15 - 19 let'],\n",
    "    'dospeli': ['20 - 24 let', '25 - 29 let', '30 - 34 let', '35 - 39 let', '40 - 44 let', '45 - 49 let', '50 - 54 let', '55 - 59 let'],\n",
    "    'stari': ['65 - 69 let', '70 - 74 let', '75 - 79 let', '80 - 84 let', '85 - 89 let', '95 - 99 let', '100 a více let'],\n",
    "}"
   ]
  },
  {
   "cell_type": "code",
   "execution_count": 5,
   "metadata": {
    "ExecuteTime": {
     "end_time": "2024-03-02T15:10:09.396161Z",
     "start_time": "2024-03-02T15:10:03.635986Z"
    }
   },
   "outputs": [],
   "source": [
    "analysis_result = dict()\n",
    "\n",
    "# Celkový počet obyvatel\n",
    "analysis_result['count'] = int(data[(data['uzemi_cis'] == 97) & (data['vek_txt'].isnull()) & (data['pohlavi_txt'].isnull())]['hodnota'])\n",
    "\n",
    "# Celkový počet obyvatel podle pohlaví\n",
    "analysis_result['count_women'] = int(data[(data['uzemi_cis'] == 97) & (data['vek_txt'].isnull()) & (data['pohlavi_kod'] == 2)]['hodnota'])\n",
    "analysis_result['count_men'] = int(data[(data['uzemi_cis'] == 97) & (data['vek_txt'].isnull()) & (data['pohlavi_kod'] == 1)]['hodnota'])\n",
    "\n",
    "# Celkový počet obyvatel podle věku\n",
    "analysis_result['count_ages'] = {}\n",
    "for key, value in cis_vek.items():\n",
    "    analysis_result['count_ages'][value] = int(data[(data['uzemi_cis'] == 97) & (data['vek_kod'] == key) & (data['pohlavi_txt'].isnull())]['hodnota'])\n",
    "\n",
    "# Celkový počet obyvatel podle věku a pohlaví\n",
    "analysis_result['count_age_sex'] = {}\n",
    "for key, value in cis_vek.items():\n",
    "    analysis_result['count_age_sex'][value] = {}\n",
    "    analysis_result['count_age_sex'][value]['women'] = int(data[(data['uzemi_cis'] == 97) & (data['vek_kod'] == key) & (data['pohlavi_kod'] == 2)]['hodnota'])\n",
    "    analysis_result['count_age_sex'][value]['men'] = int(data[(data['uzemi_cis'] == 97) & (data['vek_kod'] == key) & (data['pohlavi_kod'] == 1)]['hodnota'])\n",
    "\n",
    "# Celkový počet obyvatel podle věkových fází (období)\n",
    "analysis_result['count_age_phase'] = {}\n",
    "for key, value in veky_podle_fazi.items():\n",
    "    analysis_result['count_age_phase'][key] = 0\n",
    "    for phase in value:\n",
    "        analysis_result['count_age_phase'][key] += int(data[(data['uzemi_cis'] == 97) & (data['vek_txt'] == phase) & (data['pohlavi_txt'].isnull())]['hodnota'])\n",
    "\n",
    "# Celkový počet obyvatel podle věkových fází (období) a pohlaví\n",
    "analysis_result['count_age_phase_sex'] = {}\n",
    "for key, value in veky_podle_fazi.items():\n",
    "    analysis_result['count_age_phase_sex'][key] = {}\n",
    "    analysis_result['count_age_phase_sex'][key]['women'] = 0\n",
    "    analysis_result['count_age_phase_sex'][key]['men'] = 0\n",
    "    for phase in value:\n",
    "        analysis_result['count_age_phase_sex'][key]['women'] += int(data[(data['uzemi_cis'] == 97) & (data['vek_txt'] == phase) & (data['pohlavi_kod'] == 2)]['hodnota'])\n",
    "        analysis_result['count_age_phase_sex'][key]['men'] += int(data[(data['uzemi_cis'] == 97) & (data['vek_txt'] == phase) & (data['pohlavi_kod'] == 1)]['hodnota'])\n",
    "\n",
    "# Celkový počet obyvatel podle okresu, věku a pohlaví\n",
    "analysis_result['count_sex_district'] = {}\n",
    "for key, value in cis_okresy.items():\n",
    "    key_int = int(key)\n",
    "    analysis_result['count_sex_district'][key_int] = {}\n",
    "    analysis_result['count_sex_district'][key_int]['name'] = value\n",
    "    analysis_result['count_sex_district'][key_int]['data'] = {}\n",
    "    analysis_result['count_sex_district'][key_int]['data']['women'] = []\n",
    "    analysis_result['count_sex_district'][key_int]['data']['men'] = []\n",
    "    for key2, value2 in cis_vek.items(): \n",
    "        analysis_result['count_sex_district'][key_int]['data']['women'].append(int(data[(data['uzemi_kod'] == key_int) & (data['uzemi_cis'] == 101) & (data['pohlavi_kod'] == 2) & (data['vek_txt'] == value2)]['hodnota']))\n",
    "        analysis_result['count_sex_district'][key_int]['data']['men'].append(int(data[(data['uzemi_kod'] == key_int) & (data['uzemi_cis'] == 101) & (data['pohlavi_kod'] == 1) & (data['vek_txt'] == value2)]['hodnota']))"
   ]
  },
  {
   "cell_type": "markdown",
   "metadata": {},
   "source": [
    "# Výsledky analýzy"
   ]
  },
  {
   "cell_type": "code",
   "execution_count": 8,
   "metadata": {
    "ExecuteTime": {
     "end_time": "2024-03-02T15:10:16.533356Z",
     "start_time": "2024-03-02T15:10:16.524029Z"
    }
   },
   "outputs": [
    {
     "name": "stdout",
     "output_type": "stream",
     "text": [
      "Celkový počet obyvatel: 10,524,167\n",
      "\n",
      "Celkový počet žen: 5,337,619 (50.72%)\n",
      "\n",
      "Celkový počet muž: 5,186,548 (49.28%)\n",
      "\n",
      "Celkový počet obyvatel podle věku:\n",
      "\t=> 0 - 4 roky: 560632 (5.33%)\n",
      "\t=> 5 - 9 let: 550024 (5.23%)\n",
      "\t=> 10 - 14 let: 581104 (5.52%)\n",
      "\t=> 15 - 19 let: 489836 (4.65%)\n",
      "\t=> 20 - 24 let: 477063 (4.53%)\n",
      "\t=> 25 - 29 let: 601168 (5.71%)\n",
      "\t=> 30 - 34 let: 690561 (6.56%)\n",
      "\t=> 35 - 39 let: 719089 (6.83%)\n",
      "\t=> 40 - 44 let: 857917 (8.15%)\n",
      "\t=> 45 - 49 let: 877616 (8.34%)\n",
      "\t=> 50 - 54 let: 688110 (6.54%)\n",
      "\t=> 55 - 59 let: 666391 (6.33%)\n",
      "\t=> 60 - 64 let: 616608 (5.86%)\n",
      "\t=> 65 - 69 let: 668081 (6.35%)\n",
      "\t=> 70 - 74 let: 618629 (5.88%)\n",
      "\t=> 75 - 79 let: 419368 (3.98%)\n",
      "\t=> 80 - 84 let: 243373 (2.31%)\n",
      "\t=> 85 - 89 let: 135311 (1.29%)\n",
      "\t=> 90 - 94 let: 52786 (0.50%)\n",
      "\t=> 95 - 99 let: 9853 (0.09%)\n",
      "\t=> 100 a více let: 647 (0.01%)\n",
      "\n",
      "Celkový počet obyvatel podle věku a pohlaví:\n",
      "\t=> 0 - 4 roky:\n",
      "\t\t=> women: 273743\n",
      "\t\t=> men: 286889\n",
      "\t=> 5 - 9 let:\n",
      "\t\t=> women: 267952\n",
      "\t\t=> men: 282072\n",
      "\t=> 10 - 14 let:\n",
      "\t\t=> women: 283743\n",
      "\t\t=> men: 297361\n",
      "\t=> 15 - 19 let:\n",
      "\t\t=> women: 238290\n",
      "\t\t=> men: 251546\n",
      "\t=> 20 - 24 let:\n",
      "\t\t=> women: 231724\n",
      "\t\t=> men: 245339\n",
      "\t=> 25 - 29 let:\n",
      "\t\t=> women: 290569\n",
      "\t\t=> men: 310599\n",
      "\t=> 30 - 34 let:\n",
      "\t\t=> women: 333508\n",
      "\t\t=> men: 357053\n",
      "\t=> 35 - 39 let:\n",
      "\t\t=> women: 347389\n",
      "\t\t=> men: 371700\n",
      "\t=> 40 - 44 let:\n",
      "\t\t=> women: 414631\n",
      "\t\t=> men: 443286\n",
      "\t=> 45 - 49 let:\n",
      "\t\t=> women: 426913\n",
      "\t\t=> men: 450703\n",
      "\t=> 50 - 54 let:\n",
      "\t\t=> women: 337187\n",
      "\t\t=> men: 350923\n",
      "\t=> 55 - 59 let:\n",
      "\t\t=> women: 331655\n",
      "\t\t=> men: 334736\n",
      "\t=> 60 - 64 let:\n",
      "\t\t=> women: 315642\n",
      "\t\t=> men: 300966\n",
      "\t=> 65 - 69 let:\n",
      "\t\t=> women: 356534\n",
      "\t\t=> men: 311547\n",
      "\t=> 70 - 74 let:\n",
      "\t\t=> women: 345900\n",
      "\t\t=> men: 272729\n",
      "\t=> 75 - 79 let:\n",
      "\t\t=> women: 249134\n",
      "\t\t=> men: 170234\n",
      "\t=> 80 - 84 let:\n",
      "\t\t=> women: 153868\n",
      "\t\t=> men: 89505\n",
      "\t=> 85 - 89 let:\n",
      "\t\t=> women: 92099\n",
      "\t\t=> men: 43212\n",
      "\t=> 90 - 94 let:\n",
      "\t\t=> women: 38676\n",
      "\t\t=> men: 14110\n",
      "\t=> 95 - 99 let:\n",
      "\t\t=> women: 7926\n",
      "\t\t=> men: 1927\n",
      "\t=> 100 a více let:\n",
      "\t\t=> women: 536\n",
      "\t\t=> men: 111\n",
      "\n",
      "Celkový počet obyvatel podle věkoých fází:\n",
      "\t=> deti: 1110656 (10.55%)\n",
      "\t=> dospivani: 1070940 (10.18%)\n",
      "\t=> dospeli: 5577915 (53.00%)\n",
      "\t=> stari: 2095262 (19.91%)\n",
      "\n",
      "Celkový počet obyvatel podle věkových fází a pohlaví:\n",
      "\t=> deti:\n",
      "\t\t=> women: 541695\n",
      "\t\t=> men: 568961\n",
      "\t=> dospivani:\n",
      "\t\t=> women: 522033\n",
      "\t\t=> men: 548907\n",
      "\t=> dospeli:\n",
      "\t\t=> women: 2713576\n",
      "\t\t=> men: 2864339\n",
      "\t=> stari:\n",
      "\t\t=> women: 1205997\n",
      "\t\t=> men: 889265\n"
     ]
    }
   ],
   "source": [
    "# Celkový počet obyvatel\n",
    "print(f\"Celkový počet obyvatel: {format_with_commas(analysis_result['count'])}\")\n",
    "print(f\"\\nCelkový počet žen: {format_with_commas(analysis_result['count_women'])} ({(analysis_result['count_women'] / analysis_result['count'])*100:.2f}%)\")\n",
    "print(f\"\\nCelkový počet muž: {format_with_commas(analysis_result['count_men'])} ({(analysis_result['count_men'] / analysis_result['count'])*100:.2f}%)\")\n",
    "print_dictionary_ages(\"\\nCelkový počet obyvatel podle věku:\", analysis_result['count_ages'])\n",
    "print_dictionary_ages_sex(\"\\nCelkový počet obyvatel podle věku a pohlaví:\", analysis_result['count_age_sex'])\n",
    "print_dictionary_ages(\"\\nCelkový počet obyvatel podle věkoých fází:\", analysis_result['count_age_phase'])\n",
    "print_dictionary_ages_sex(\"\\nCelkový počet obyvatel podle věkových fází a pohlaví:\", analysis_result['count_age_phase_sex'])\n",
    "# print_dictionary_ages_sex(\"\\nCelkový počet obyvatel podle pohlaví a kraje:\", analysis_result['count_sex_district'])\n",
    "# pprint.pprint(analysis_result['count_sex_district'])\n",
    "# output = json.dumps(analysis_result['count_sex_district'], ensure_ascii=False).encode('utf8')\n",
    "# with open('output.json', 'w') as f:\n",
    "#     f.write(output.decode())"
   ]
  }
 ],
 "metadata": {
  "kernelspec": {
   "display_name": "Python 3 (ipykernel)",
   "language": "python",
   "name": "python3"
  },
  "language_info": {
   "codemirror_mode": {
    "name": "ipython",
    "version": 3
   },
   "file_extension": ".py",
   "mimetype": "text/x-python",
   "name": "python",
   "nbconvert_exporter": "python",
   "pygments_lexer": "ipython3",
   "version": "3.10.12"
  }
 },
 "nbformat": 4,
 "nbformat_minor": 4
}
