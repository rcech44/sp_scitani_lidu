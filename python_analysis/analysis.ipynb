{
 "cells": [
  {
   "cell_type": "markdown",
   "metadata": {},
   "source": [
    "# Analýza věku a pohlaví podle pětiletých věkových skupin"
   ]
  },
  {
   "cell_type": "markdown",
   "metadata": {},
   "source": [
    "### Import knihoven\n"
   ]
  },
  {
   "cell_type": "code",
   "execution_count": 1,
   "metadata": {
    "ExecuteTime": {
     "end_time": "2024-03-02T15:13:04.518383Z",
     "start_time": "2024-03-02T15:13:03.691575Z"
    }
   },
   "outputs": [],
   "source": [
    "import pandas as pd\n",
    "import numpy as np\n",
    "import pymongo\n",
    "import utils.data_loader as data_loader\n",
    "import pprint\n",
    "import json\n",
    "from cis import *"
   ]
  },
  {
   "cell_type": "markdown",
   "metadata": {},
   "source": [
    "### Poznámky"
   ]
  },
  {
   "cell_type": "code",
   "execution_count": 2,
   "metadata": {},
   "outputs": [],
   "source": [
    "# https://www.czso.cz/csu/rso/uzemne_technicke_jednotky\n",
    "# https://scitani.gov.cz/vysledky\n",
    "# https://www.czso.cz/csu/czso/vysledky-scitani-2021-otevrena-data"
   ]
  },
  {
   "cell_type": "markdown",
   "metadata": {},
   "source": [
    "### Pomocné funkce"
   ]
  },
  {
   "cell_type": "code",
   "execution_count": 2,
   "metadata": {
    "ExecuteTime": {
     "end_time": "2024-03-02T15:09:36.459764Z",
     "start_time": "2024-03-02T15:09:36.452104Z"
    }
   },
   "outputs": [],
   "source": [
    "# Tisk čísla s oddělovači čárek\n",
    "def format_with_commas(number):\n",
    "    return \"{:,}\".format(number)\n",
    "\n",
    "# Hezký tisk slovníku pro věk\n",
    "def print_dictionary_ages(text, dict):\n",
    "    print(f\"{text}\")\n",
    "    for key, value in dict.items():\n",
    "        print(f\"\\t=> {key}: {value} ({(value / analysis_result['count'])*100:.2f}%)\")\n",
    "\n",
    "# Hezký tisk slovníku pro věk a pohlaví\n",
    "def print_dictionary_ages_sex(text, dict):\n",
    "    print(f\"{text}\")\n",
    "    for key, value in dict.items():\n",
    "        print(f\"\\t=> {key}:\")\n",
    "        for key, value in value.items():\n",
    "            print(f\"\\t\\t=> {key}: {value}\")"
   ]
  },
  {
   "cell_type": "markdown",
   "metadata": {},
   "source": [
    "### Uložení CSV dat do MongoDB"
   ]
  },
  {
   "cell_type": "code",
   "execution_count": 3,
   "metadata": {},
   "outputs": [
    {
     "ename": "KeyboardInterrupt",
     "evalue": "",
     "output_type": "error",
     "traceback": [
      "\u001b[0;31m---------------------------------------------------------------------------\u001b[0m",
      "\u001b[0;31mKeyboardInterrupt\u001b[0m                         Traceback (most recent call last)",
      "Cell \u001b[0;32mIn[3], line 1\u001b[0m\n\u001b[0;32m----> 1\u001b[0m \u001b[43mdata_loader\u001b[49m\u001b[38;5;241;43m.\u001b[39;49m\u001b[43mload_csv_into_db\u001b[49m\u001b[43m(\u001b[49m\u001b[38;5;124;43m\"\u001b[39;49m\u001b[38;5;124;43mvek_pohlavi_5\u001b[39;49m\u001b[38;5;124;43m\"\u001b[39;49m\u001b[43m,\u001b[49m\u001b[43m \u001b[49m\u001b[38;5;124;43m\"\u001b[39;49m\u001b[38;5;124;43m../data_original/sldb2021_vek5_pohlavi.csv\u001b[39;49m\u001b[38;5;124;43m\"\u001b[39;49m\u001b[43m)\u001b[49m\n",
      "File \u001b[0;32m~/Code/SP/sp_scitani_lidu/python_analysis/utils/data_loader.py:15\u001b[0m, in \u001b[0;36mload_csv_into_db\u001b[0;34m(collection, file_path, chunksize)\u001b[0m\n\u001b[1;32m     12\u001b[0m csv_chunksize \u001b[38;5;241m=\u001b[39m chunksize\n\u001b[1;32m     14\u001b[0m \u001b[38;5;66;03m# Get data from CSV and insert into MongoDB\u001b[39;00m\n\u001b[0;32m---> 15\u001b[0m \u001b[38;5;28;01mfor\u001b[39;00m chunk \u001b[38;5;129;01min\u001b[39;00m pd\u001b[38;5;241m.\u001b[39mread_csv(csv_file_path, chunksize\u001b[38;5;241m=\u001b[39mcsv_chunksize):\n\u001b[1;32m     16\u001b[0m     chunk\u001b[38;5;241m.\u001b[39mreplace({np\u001b[38;5;241m.\u001b[39mnan: \u001b[38;5;28;01mNone\u001b[39;00m}, inplace\u001b[38;5;241m=\u001b[39m\u001b[38;5;28;01mTrue\u001b[39;00m)\n\u001b[1;32m     17\u001b[0m     records \u001b[38;5;241m=\u001b[39m chunk\u001b[38;5;241m.\u001b[39mto_dict(\u001b[38;5;124m'\u001b[39m\u001b[38;5;124mrecords\u001b[39m\u001b[38;5;124m'\u001b[39m)\n",
      "File \u001b[0;32m~/.local/lib/python3.10/site-packages/pandas/io/parsers/readers.py:1698\u001b[0m, in \u001b[0;36mTextFileReader.__next__\u001b[0;34m(self)\u001b[0m\n\u001b[1;32m   1696\u001b[0m \u001b[38;5;28;01mdef\u001b[39;00m \u001b[38;5;21m__next__\u001b[39m(\u001b[38;5;28mself\u001b[39m) \u001b[38;5;241m-\u001b[39m\u001b[38;5;241m>\u001b[39m DataFrame:\n\u001b[1;32m   1697\u001b[0m     \u001b[38;5;28;01mtry\u001b[39;00m:\n\u001b[0;32m-> 1698\u001b[0m         \u001b[38;5;28;01mreturn\u001b[39;00m \u001b[38;5;28;43mself\u001b[39;49m\u001b[38;5;241;43m.\u001b[39;49m\u001b[43mget_chunk\u001b[49m\u001b[43m(\u001b[49m\u001b[43m)\u001b[49m\n\u001b[1;32m   1699\u001b[0m     \u001b[38;5;28;01mexcept\u001b[39;00m \u001b[38;5;167;01mStopIteration\u001b[39;00m:\n\u001b[1;32m   1700\u001b[0m         \u001b[38;5;28mself\u001b[39m\u001b[38;5;241m.\u001b[39mclose()\n",
      "File \u001b[0;32m~/.local/lib/python3.10/site-packages/pandas/io/parsers/readers.py:1810\u001b[0m, in \u001b[0;36mTextFileReader.get_chunk\u001b[0;34m(self, size)\u001b[0m\n\u001b[1;32m   1808\u001b[0m         \u001b[38;5;28;01mraise\u001b[39;00m \u001b[38;5;167;01mStopIteration\u001b[39;00m\n\u001b[1;32m   1809\u001b[0m     size \u001b[38;5;241m=\u001b[39m \u001b[38;5;28mmin\u001b[39m(size, \u001b[38;5;28mself\u001b[39m\u001b[38;5;241m.\u001b[39mnrows \u001b[38;5;241m-\u001b[39m \u001b[38;5;28mself\u001b[39m\u001b[38;5;241m.\u001b[39m_currow)\n\u001b[0;32m-> 1810\u001b[0m \u001b[38;5;28;01mreturn\u001b[39;00m \u001b[38;5;28;43mself\u001b[39;49m\u001b[38;5;241;43m.\u001b[39;49m\u001b[43mread\u001b[49m\u001b[43m(\u001b[49m\u001b[43mnrows\u001b[49m\u001b[38;5;241;43m=\u001b[39;49m\u001b[43msize\u001b[49m\u001b[43m)\u001b[49m\n",
      "File \u001b[0;32m~/.local/lib/python3.10/site-packages/pandas/io/parsers/readers.py:1795\u001b[0m, in \u001b[0;36mTextFileReader.read\u001b[0;34m(self, nrows)\u001b[0m\n\u001b[1;32m   1792\u001b[0m     \u001b[38;5;28;01melse\u001b[39;00m:\n\u001b[1;32m   1793\u001b[0m         new_rows \u001b[38;5;241m=\u001b[39m \u001b[38;5;28mlen\u001b[39m(index)\n\u001b[0;32m-> 1795\u001b[0m     df \u001b[38;5;241m=\u001b[39m \u001b[43mDataFrame\u001b[49m\u001b[43m(\u001b[49m\u001b[43mcol_dict\u001b[49m\u001b[43m,\u001b[49m\u001b[43m \u001b[49m\u001b[43mcolumns\u001b[49m\u001b[38;5;241;43m=\u001b[39;49m\u001b[43mcolumns\u001b[49m\u001b[43m,\u001b[49m\u001b[43m \u001b[49m\u001b[43mindex\u001b[49m\u001b[38;5;241;43m=\u001b[39;49m\u001b[43mindex\u001b[49m\u001b[43m)\u001b[49m\n\u001b[1;32m   1797\u001b[0m     \u001b[38;5;28mself\u001b[39m\u001b[38;5;241m.\u001b[39m_currow \u001b[38;5;241m+\u001b[39m\u001b[38;5;241m=\u001b[39m new_rows\n\u001b[1;32m   1799\u001b[0m \u001b[38;5;28;01mif\u001b[39;00m \u001b[38;5;28mself\u001b[39m\u001b[38;5;241m.\u001b[39msqueeze \u001b[38;5;129;01mand\u001b[39;00m \u001b[38;5;28mlen\u001b[39m(df\u001b[38;5;241m.\u001b[39mcolumns) \u001b[38;5;241m==\u001b[39m \u001b[38;5;241m1\u001b[39m:\n",
      "File \u001b[0;32m~/.local/lib/python3.10/site-packages/pandas/core/frame.py:663\u001b[0m, in \u001b[0;36mDataFrame.__init__\u001b[0;34m(self, data, index, columns, dtype, copy)\u001b[0m\n\u001b[1;32m    657\u001b[0m     mgr \u001b[38;5;241m=\u001b[39m \u001b[38;5;28mself\u001b[39m\u001b[38;5;241m.\u001b[39m_init_mgr(\n\u001b[1;32m    658\u001b[0m         data, axes\u001b[38;5;241m=\u001b[39m{\u001b[38;5;124m\"\u001b[39m\u001b[38;5;124mindex\u001b[39m\u001b[38;5;124m\"\u001b[39m: index, \u001b[38;5;124m\"\u001b[39m\u001b[38;5;124mcolumns\u001b[39m\u001b[38;5;124m\"\u001b[39m: columns}, dtype\u001b[38;5;241m=\u001b[39mdtype, copy\u001b[38;5;241m=\u001b[39mcopy\n\u001b[1;32m    659\u001b[0m     )\n\u001b[1;32m    661\u001b[0m \u001b[38;5;28;01melif\u001b[39;00m \u001b[38;5;28misinstance\u001b[39m(data, \u001b[38;5;28mdict\u001b[39m):\n\u001b[1;32m    662\u001b[0m     \u001b[38;5;66;03m# GH#38939 de facto copy defaults to False only in non-dict cases\u001b[39;00m\n\u001b[0;32m--> 663\u001b[0m     mgr \u001b[38;5;241m=\u001b[39m \u001b[43mdict_to_mgr\u001b[49m\u001b[43m(\u001b[49m\u001b[43mdata\u001b[49m\u001b[43m,\u001b[49m\u001b[43m \u001b[49m\u001b[43mindex\u001b[49m\u001b[43m,\u001b[49m\u001b[43m \u001b[49m\u001b[43mcolumns\u001b[49m\u001b[43m,\u001b[49m\u001b[43m \u001b[49m\u001b[43mdtype\u001b[49m\u001b[38;5;241;43m=\u001b[39;49m\u001b[43mdtype\u001b[49m\u001b[43m,\u001b[49m\u001b[43m \u001b[49m\u001b[43mcopy\u001b[49m\u001b[38;5;241;43m=\u001b[39;49m\u001b[43mcopy\u001b[49m\u001b[43m,\u001b[49m\u001b[43m \u001b[49m\u001b[43mtyp\u001b[49m\u001b[38;5;241;43m=\u001b[39;49m\u001b[43mmanager\u001b[49m\u001b[43m)\u001b[49m\n\u001b[1;32m    664\u001b[0m \u001b[38;5;28;01melif\u001b[39;00m \u001b[38;5;28misinstance\u001b[39m(data, ma\u001b[38;5;241m.\u001b[39mMaskedArray):\n\u001b[1;32m    665\u001b[0m     \u001b[38;5;28;01mimport\u001b[39;00m \u001b[38;5;21;01mnumpy\u001b[39;00m\u001b[38;5;21;01m.\u001b[39;00m\u001b[38;5;21;01mma\u001b[39;00m\u001b[38;5;21;01m.\u001b[39;00m\u001b[38;5;21;01mmrecords\u001b[39;00m \u001b[38;5;28;01mas\u001b[39;00m \u001b[38;5;21;01mmrecords\u001b[39;00m\n",
      "File \u001b[0;32m~/.local/lib/python3.10/site-packages/pandas/core/internals/construction.py:453\u001b[0m, in \u001b[0;36mdict_to_mgr\u001b[0;34m(data, index, columns, dtype, typ, copy)\u001b[0m\n\u001b[1;32m    450\u001b[0m     index \u001b[38;5;241m=\u001b[39m ensure_index(index)\n\u001b[1;32m    452\u001b[0m \u001b[38;5;66;03m# no obvious \"empty\" int column\u001b[39;00m\n\u001b[0;32m--> 453\u001b[0m \u001b[38;5;28;01mif\u001b[39;00m \u001b[43mmissing\u001b[49m\u001b[38;5;241;43m.\u001b[39;49m\u001b[43many\u001b[49m\u001b[43m(\u001b[49m\u001b[43m)\u001b[49m \u001b[38;5;129;01mand\u001b[39;00m \u001b[38;5;129;01mnot\u001b[39;00m is_integer_dtype(dtype):\n\u001b[1;32m    454\u001b[0m     nan_dtype: DtypeObj\n\u001b[1;32m    456\u001b[0m     \u001b[38;5;28;01mif\u001b[39;00m dtype \u001b[38;5;129;01mis\u001b[39;00m \u001b[38;5;129;01mnot\u001b[39;00m \u001b[38;5;28;01mNone\u001b[39;00m:\n\u001b[1;32m    457\u001b[0m         \u001b[38;5;66;03m# calling sanitize_array ensures we don't mix-and-match\u001b[39;00m\n\u001b[1;32m    458\u001b[0m         \u001b[38;5;66;03m#  NA dtypes\u001b[39;00m\n",
      "File \u001b[0;32m~/.local/lib/python3.10/site-packages/pandas/util/_decorators.py:331\u001b[0m, in \u001b[0;36mdeprecate_nonkeyword_arguments.<locals>.decorate.<locals>.wrapper\u001b[0;34m(*args, **kwargs)\u001b[0m\n\u001b[1;32m    325\u001b[0m \u001b[38;5;28;01mif\u001b[39;00m \u001b[38;5;28mlen\u001b[39m(args) \u001b[38;5;241m>\u001b[39m num_allow_args:\n\u001b[1;32m    326\u001b[0m     warnings\u001b[38;5;241m.\u001b[39mwarn(\n\u001b[1;32m    327\u001b[0m         msg\u001b[38;5;241m.\u001b[39mformat(arguments\u001b[38;5;241m=\u001b[39m_format_argument_list(allow_args)),\n\u001b[1;32m    328\u001b[0m         \u001b[38;5;167;01mFutureWarning\u001b[39;00m,\n\u001b[1;32m    329\u001b[0m         stacklevel\u001b[38;5;241m=\u001b[39mfind_stack_level(),\n\u001b[1;32m    330\u001b[0m     )\n\u001b[0;32m--> 331\u001b[0m \u001b[38;5;28;01mreturn\u001b[39;00m \u001b[43mfunc\u001b[49m\u001b[43m(\u001b[49m\u001b[38;5;241;43m*\u001b[39;49m\u001b[43margs\u001b[49m\u001b[43m,\u001b[49m\u001b[43m \u001b[49m\u001b[38;5;241;43m*\u001b[39;49m\u001b[38;5;241;43m*\u001b[39;49m\u001b[43mkwargs\u001b[49m\u001b[43m)\u001b[49m\n",
      "File \u001b[0;32m~/.local/lib/python3.10/site-packages/pandas/core/generic.py:11614\u001b[0m, in \u001b[0;36mNDFrame._add_numeric_operations.<locals>.any\u001b[0;34m(self, axis, bool_only, skipna, level, **kwargs)\u001b[0m\n\u001b[1;32m  11598\u001b[0m \u001b[38;5;129m@deprecate_nonkeyword_arguments\u001b[39m(\n\u001b[1;32m  11599\u001b[0m     version\u001b[38;5;241m=\u001b[39m\u001b[38;5;28;01mNone\u001b[39;00m,\n\u001b[1;32m  11600\u001b[0m     allowed_args\u001b[38;5;241m=\u001b[39m[\u001b[38;5;124m\"\u001b[39m\u001b[38;5;124mself\u001b[39m\u001b[38;5;124m\"\u001b[39m],\n\u001b[0;32m   (...)\u001b[0m\n\u001b[1;32m  11612\u001b[0m )\n\u001b[1;32m  11613\u001b[0m \u001b[38;5;28;01mdef\u001b[39;00m \u001b[38;5;21many\u001b[39m(\u001b[38;5;28mself\u001b[39m, axis\u001b[38;5;241m=\u001b[39m\u001b[38;5;241m0\u001b[39m, bool_only\u001b[38;5;241m=\u001b[39m\u001b[38;5;28;01mNone\u001b[39;00m, skipna\u001b[38;5;241m=\u001b[39m\u001b[38;5;28;01mTrue\u001b[39;00m, level\u001b[38;5;241m=\u001b[39m\u001b[38;5;28;01mNone\u001b[39;00m, \u001b[38;5;241m*\u001b[39m\u001b[38;5;241m*\u001b[39mkwargs):\n\u001b[0;32m> 11614\u001b[0m     \u001b[38;5;28;01mreturn\u001b[39;00m \u001b[43mNDFrame\u001b[49m\u001b[38;5;241;43m.\u001b[39;49m\u001b[43many\u001b[49m\u001b[43m(\u001b[49m\u001b[38;5;28;43mself\u001b[39;49m\u001b[43m,\u001b[49m\u001b[43m \u001b[49m\u001b[43maxis\u001b[49m\u001b[43m,\u001b[49m\u001b[43m \u001b[49m\u001b[43mbool_only\u001b[49m\u001b[43m,\u001b[49m\u001b[43m \u001b[49m\u001b[43mskipna\u001b[49m\u001b[43m,\u001b[49m\u001b[43m \u001b[49m\u001b[43mlevel\u001b[49m\u001b[43m,\u001b[49m\u001b[43m \u001b[49m\u001b[38;5;241;43m*\u001b[39;49m\u001b[38;5;241;43m*\u001b[39;49m\u001b[43mkwargs\u001b[49m\u001b[43m)\u001b[49m\n",
      "File \u001b[0;32m~/.local/lib/python3.10/site-packages/pandas/core/generic.py:11174\u001b[0m, in \u001b[0;36mNDFrame.any\u001b[0;34m(self, axis, bool_only, skipna, level, **kwargs)\u001b[0m\n\u001b[1;32m  11166\u001b[0m \u001b[38;5;28;01mdef\u001b[39;00m \u001b[38;5;21many\u001b[39m(\n\u001b[1;32m  11167\u001b[0m     \u001b[38;5;28mself\u001b[39m,\n\u001b[1;32m  11168\u001b[0m     axis: Axis \u001b[38;5;241m=\u001b[39m \u001b[38;5;241m0\u001b[39m,\n\u001b[0;32m   (...)\u001b[0m\n\u001b[1;32m  11172\u001b[0m     \u001b[38;5;241m*\u001b[39m\u001b[38;5;241m*\u001b[39mkwargs,\n\u001b[1;32m  11173\u001b[0m ) \u001b[38;5;241m-\u001b[39m\u001b[38;5;241m>\u001b[39m DataFrame \u001b[38;5;241m|\u001b[39m Series \u001b[38;5;241m|\u001b[39m bool_t:\n\u001b[0;32m> 11174\u001b[0m     \u001b[38;5;28;01mreturn\u001b[39;00m \u001b[38;5;28;43mself\u001b[39;49m\u001b[38;5;241;43m.\u001b[39;49m\u001b[43m_logical_func\u001b[49m\u001b[43m(\u001b[49m\n\u001b[1;32m  11175\u001b[0m \u001b[43m        \u001b[49m\u001b[38;5;124;43m\"\u001b[39;49m\u001b[38;5;124;43many\u001b[39;49m\u001b[38;5;124;43m\"\u001b[39;49m\u001b[43m,\u001b[49m\u001b[43m \u001b[49m\u001b[43mnanops\u001b[49m\u001b[38;5;241;43m.\u001b[39;49m\u001b[43mnanany\u001b[49m\u001b[43m,\u001b[49m\u001b[43m \u001b[49m\u001b[43maxis\u001b[49m\u001b[43m,\u001b[49m\u001b[43m \u001b[49m\u001b[43mbool_only\u001b[49m\u001b[43m,\u001b[49m\u001b[43m \u001b[49m\u001b[43mskipna\u001b[49m\u001b[43m,\u001b[49m\u001b[43m \u001b[49m\u001b[43mlevel\u001b[49m\u001b[43m,\u001b[49m\u001b[43m \u001b[49m\u001b[38;5;241;43m*\u001b[39;49m\u001b[38;5;241;43m*\u001b[39;49m\u001b[43mkwargs\u001b[49m\n\u001b[1;32m  11176\u001b[0m \u001b[43m    \u001b[49m\u001b[43m)\u001b[49m\n",
      "File \u001b[0;32m~/.local/lib/python3.10/site-packages/pandas/core/generic.py:11157\u001b[0m, in \u001b[0;36mNDFrame._logical_func\u001b[0;34m(self, name, func, axis, bool_only, skipna, level, **kwargs)\u001b[0m\n\u001b[1;32m  11154\u001b[0m         obj \u001b[38;5;241m=\u001b[39m \u001b[38;5;28mself\u001b[39m\u001b[38;5;241m.\u001b[39m_get_bool_data()\n\u001b[1;32m  11155\u001b[0m     \u001b[38;5;28;01mreturn\u001b[39;00m obj\u001b[38;5;241m.\u001b[39m_reduce_axis1(name, func, skipna\u001b[38;5;241m=\u001b[39mskipna)\n\u001b[0;32m> 11157\u001b[0m \u001b[38;5;28;01mreturn\u001b[39;00m \u001b[38;5;28;43mself\u001b[39;49m\u001b[38;5;241;43m.\u001b[39;49m\u001b[43m_reduce\u001b[49m\u001b[43m(\u001b[49m\n\u001b[1;32m  11158\u001b[0m \u001b[43m    \u001b[49m\u001b[43mfunc\u001b[49m\u001b[43m,\u001b[49m\n\u001b[1;32m  11159\u001b[0m \u001b[43m    \u001b[49m\u001b[43mname\u001b[49m\u001b[38;5;241;43m=\u001b[39;49m\u001b[43mname\u001b[49m\u001b[43m,\u001b[49m\n\u001b[1;32m  11160\u001b[0m \u001b[43m    \u001b[49m\u001b[43maxis\u001b[49m\u001b[38;5;241;43m=\u001b[39;49m\u001b[43maxis\u001b[49m\u001b[43m,\u001b[49m\n\u001b[1;32m  11161\u001b[0m \u001b[43m    \u001b[49m\u001b[43mskipna\u001b[49m\u001b[38;5;241;43m=\u001b[39;49m\u001b[43mskipna\u001b[49m\u001b[43m,\u001b[49m\n\u001b[1;32m  11162\u001b[0m \u001b[43m    \u001b[49m\u001b[43mnumeric_only\u001b[49m\u001b[38;5;241;43m=\u001b[39;49m\u001b[43mbool_only\u001b[49m\u001b[43m,\u001b[49m\n\u001b[1;32m  11163\u001b[0m \u001b[43m    \u001b[49m\u001b[43mfilter_type\u001b[49m\u001b[38;5;241;43m=\u001b[39;49m\u001b[38;5;124;43m\"\u001b[39;49m\u001b[38;5;124;43mbool\u001b[39;49m\u001b[38;5;124;43m\"\u001b[39;49m\u001b[43m,\u001b[49m\n\u001b[1;32m  11164\u001b[0m \u001b[43m\u001b[49m\u001b[43m)\u001b[49m\n",
      "File \u001b[0;32m~/.local/lib/python3.10/site-packages/pandas/core/series.py:4815\u001b[0m, in \u001b[0;36mSeries._reduce\u001b[0;34m(self, op, name, axis, skipna, numeric_only, filter_type, **kwds)\u001b[0m\n\u001b[1;32m   4806\u001b[0m     warnings\u001b[38;5;241m.\u001b[39mwarn(\n\u001b[1;32m   4807\u001b[0m         \u001b[38;5;124mf\u001b[39m\u001b[38;5;124m\"\u001b[39m\u001b[38;5;124mCalling Series.\u001b[39m\u001b[38;5;132;01m{\u001b[39;00mname\u001b[38;5;132;01m}\u001b[39;00m\u001b[38;5;124m with \u001b[39m\u001b[38;5;132;01m{\u001b[39;00mkwd_name\u001b[38;5;132;01m}\u001b[39;00m\u001b[38;5;124m=\u001b[39m\u001b[38;5;132;01m{\u001b[39;00mnumeric_only\u001b[38;5;132;01m}\u001b[39;00m\u001b[38;5;124m and \u001b[39m\u001b[38;5;124m\"\u001b[39m\n\u001b[1;32m   4808\u001b[0m         \u001b[38;5;124mf\u001b[39m\u001b[38;5;124m\"\u001b[39m\u001b[38;5;124mdtype \u001b[39m\u001b[38;5;132;01m{\u001b[39;00m\u001b[38;5;28mself\u001b[39m\u001b[38;5;241m.\u001b[39mdtype\u001b[38;5;132;01m}\u001b[39;00m\u001b[38;5;124m will raise a TypeError in the future\u001b[39m\u001b[38;5;124m\"\u001b[39m,\n\u001b[1;32m   4809\u001b[0m         \u001b[38;5;167;01mFutureWarning\u001b[39;00m,\n\u001b[1;32m   4810\u001b[0m         stacklevel\u001b[38;5;241m=\u001b[39mfind_stack_level(),\n\u001b[1;32m   4811\u001b[0m     )\n\u001b[1;32m   4812\u001b[0m     \u001b[38;5;28;01mraise\u001b[39;00m \u001b[38;5;167;01mNotImplementedError\u001b[39;00m(\n\u001b[1;32m   4813\u001b[0m         \u001b[38;5;124mf\u001b[39m\u001b[38;5;124m\"\u001b[39m\u001b[38;5;124mSeries.\u001b[39m\u001b[38;5;132;01m{\u001b[39;00mname\u001b[38;5;132;01m}\u001b[39;00m\u001b[38;5;124m does not implement \u001b[39m\u001b[38;5;132;01m{\u001b[39;00mkwd_name\u001b[38;5;132;01m}\u001b[39;00m\u001b[38;5;124m.\u001b[39m\u001b[38;5;124m\"\u001b[39m\n\u001b[1;32m   4814\u001b[0m     )\n\u001b[0;32m-> 4815\u001b[0m \u001b[38;5;28;01mwith\u001b[39;00m np\u001b[38;5;241m.\u001b[39merrstate(\u001b[38;5;28mall\u001b[39m\u001b[38;5;241m=\u001b[39m\u001b[38;5;124m\"\u001b[39m\u001b[38;5;124mignore\u001b[39m\u001b[38;5;124m\"\u001b[39m):\n\u001b[1;32m   4816\u001b[0m     \u001b[38;5;28;01mreturn\u001b[39;00m op(delegate, skipna\u001b[38;5;241m=\u001b[39mskipna, \u001b[38;5;241m*\u001b[39m\u001b[38;5;241m*\u001b[39mkwds)\n",
      "File \u001b[0;32m~/.local/lib/python3.10/site-packages/numpy/core/_ufunc_config.py:435\u001b[0m, in \u001b[0;36merrstate.__exit__\u001b[0;34m(self, *exc_info)\u001b[0m\n\u001b[1;32m    434\u001b[0m \u001b[38;5;28;01mdef\u001b[39;00m \u001b[38;5;21m__exit__\u001b[39m(\u001b[38;5;28mself\u001b[39m, \u001b[38;5;241m*\u001b[39mexc_info):\n\u001b[0;32m--> 435\u001b[0m     \u001b[43mseterr\u001b[49m\u001b[43m(\u001b[49m\u001b[38;5;241;43m*\u001b[39;49m\u001b[38;5;241;43m*\u001b[39;49m\u001b[38;5;28;43mself\u001b[39;49m\u001b[38;5;241;43m.\u001b[39;49m\u001b[43moldstate\u001b[49m\u001b[43m)\u001b[49m\n\u001b[1;32m    436\u001b[0m     \u001b[38;5;28;01mif\u001b[39;00m \u001b[38;5;28mself\u001b[39m\u001b[38;5;241m.\u001b[39mcall \u001b[38;5;129;01mis\u001b[39;00m \u001b[38;5;129;01mnot\u001b[39;00m _Unspecified:\n\u001b[1;32m    437\u001b[0m         seterrcall(\u001b[38;5;28mself\u001b[39m\u001b[38;5;241m.\u001b[39moldcall)\n",
      "File \u001b[0;32m~/.local/lib/python3.10/site-packages/numpy/core/_ufunc_config.py:32\u001b[0m, in \u001b[0;36mseterr\u001b[0;34m(all, divide, over, under, invalid)\u001b[0m\n\u001b[1;32m     22\u001b[0m _errdict \u001b[38;5;241m=\u001b[39m {\u001b[38;5;124m\"\u001b[39m\u001b[38;5;124mignore\u001b[39m\u001b[38;5;124m\"\u001b[39m: ERR_IGNORE,\n\u001b[1;32m     23\u001b[0m             \u001b[38;5;124m\"\u001b[39m\u001b[38;5;124mwarn\u001b[39m\u001b[38;5;124m\"\u001b[39m: ERR_WARN,\n\u001b[1;32m     24\u001b[0m             \u001b[38;5;124m\"\u001b[39m\u001b[38;5;124mraise\u001b[39m\u001b[38;5;124m\"\u001b[39m: ERR_RAISE,\n\u001b[1;32m     25\u001b[0m             \u001b[38;5;124m\"\u001b[39m\u001b[38;5;124mcall\u001b[39m\u001b[38;5;124m\"\u001b[39m: ERR_CALL,\n\u001b[1;32m     26\u001b[0m             \u001b[38;5;124m\"\u001b[39m\u001b[38;5;124mprint\u001b[39m\u001b[38;5;124m\"\u001b[39m: ERR_PRINT,\n\u001b[1;32m     27\u001b[0m             \u001b[38;5;124m\"\u001b[39m\u001b[38;5;124mlog\u001b[39m\u001b[38;5;124m\"\u001b[39m: ERR_LOG}\n\u001b[1;32m     29\u001b[0m _errdict_rev \u001b[38;5;241m=\u001b[39m {value: key \u001b[38;5;28;01mfor\u001b[39;00m key, value \u001b[38;5;129;01min\u001b[39;00m _errdict\u001b[38;5;241m.\u001b[39mitems()}\n\u001b[0;32m---> 32\u001b[0m \u001b[38;5;129m@set_module\u001b[39m(\u001b[38;5;124m'\u001b[39m\u001b[38;5;124mnumpy\u001b[39m\u001b[38;5;124m'\u001b[39m)\n\u001b[1;32m     33\u001b[0m \u001b[38;5;28;01mdef\u001b[39;00m \u001b[38;5;21mseterr\u001b[39m(\u001b[38;5;28mall\u001b[39m\u001b[38;5;241m=\u001b[39m\u001b[38;5;28;01mNone\u001b[39;00m, divide\u001b[38;5;241m=\u001b[39m\u001b[38;5;28;01mNone\u001b[39;00m, over\u001b[38;5;241m=\u001b[39m\u001b[38;5;28;01mNone\u001b[39;00m, under\u001b[38;5;241m=\u001b[39m\u001b[38;5;28;01mNone\u001b[39;00m, invalid\u001b[38;5;241m=\u001b[39m\u001b[38;5;28;01mNone\u001b[39;00m):\n\u001b[1;32m     34\u001b[0m     \u001b[38;5;124;03m\"\"\"\u001b[39;00m\n\u001b[1;32m     35\u001b[0m \u001b[38;5;124;03m    Set how floating-point errors are handled.\u001b[39;00m\n\u001b[1;32m     36\u001b[0m \n\u001b[0;32m   (...)\u001b[0m\n\u001b[1;32m    106\u001b[0m \n\u001b[1;32m    107\u001b[0m \u001b[38;5;124;03m    \"\"\"\u001b[39;00m\n\u001b[1;32m    109\u001b[0m     pyvals \u001b[38;5;241m=\u001b[39m umath\u001b[38;5;241m.\u001b[39mgeterrobj()\n",
      "\u001b[0;31mKeyboardInterrupt\u001b[0m: "
     ]
    }
   ],
   "source": [
    "data_loader.load_csv_into_db(\"vek_pohlavi_5\", \"../data_original/sldb2021_vek5_pohlavi.csv\")"
   ]
  },
  {
   "cell_type": "markdown",
   "metadata": {},
   "source": [
    "### Načtení dat do paměti z MongoDB"
   ]
  },
  {
   "cell_type": "code",
   "execution_count": 4,
   "metadata": {
    "ExecuteTime": {
     "end_time": "2024-03-02T15:09:51.831201Z",
     "start_time": "2024-03-02T15:09:45.782263Z"
    }
   },
   "outputs": [],
   "source": [
    "data = data_loader.load_from_db(\"obyvatelstvo_pohlavi_vek_5\")"
   ]
  },
  {
   "cell_type": "markdown",
   "metadata": {},
   "source": [
    "### Analýza"
   ]
  },
  {
   "cell_type": "code",
   "execution_count": 11,
   "metadata": {
    "ExecuteTime": {
     "end_time": "2024-03-02T15:09:56.514624Z",
     "start_time": "2024-03-02T15:09:56.507256Z"
    }
   },
   "outputs": [],
   "source": [
    "# Pomocné CIS kódy\n",
    "cis_vek = {\n",
    "    1100000004: '0 - 4 roky',\n",
    "    1300050009: '5 - 9 let',\n",
    "    1300100014: '10 - 14 let',\n",
    "    1300150019: '15 - 19 let',\n",
    "    1300200024: '20 - 24 let',\n",
    "    1300250029: '25 - 29 let',\n",
    "    1300300034: '30 - 34 let',\n",
    "    1300350039: '35 - 39 let',\n",
    "    1300400044: '40 - 44 let',\n",
    "    1300450049: '45 - 49 let',\n",
    "    1300500054: '50 - 54 let',\n",
    "    1300550059: '55 - 59 let',\n",
    "    1300600064: '60 - 64 let',\n",
    "    1300650069: '65 - 69 let',\n",
    "    1300700074: '70 - 74 let',\n",
    "    1300750079: '75 - 79 let',\n",
    "    1300800084: '80 - 84 let',\n",
    "    1300850089: '85 - 89 let',\n",
    "    1300900094: '90 - 94 let',\n",
    "    1300950099: '95 - 99 let',\n",
    "    1201009999: '100 a více let'\n",
    "}\n",
    "\n",
    "cis_kraje = {\n",
    "    3026: 'Středočeský kraj',\n",
    "    3018: 'Hlavní město Praha',\n",
    "    3115: 'Jihomoravský kraj',\n",
    "    3140: 'Moravskoslezský kraj',\n",
    "    3069: 'Ústecký kraj',\n",
    "    3034: 'Jihočeský kraj',\n",
    "    3123: 'Olomoucký kraj',\n",
    "    3042: 'Plzeňský kraj',\n",
    "    3131: 'Zlínský kraj',\n",
    "    3085: 'Královéhradecký kraj',\n",
    "    3093: 'Pardubický kraj',\n",
    "    3107: 'Kraj Vysočina',\n",
    "    3077: 'Liberecký kraj',\n",
    "    3051: 'Karlovarský kraj'\n",
    "}\n",
    "\n",
    "veky_podle_fazi = {\n",
    "    'deti': ['0 - 4 roky', '5 - 9 let'],\n",
    "    'dospivani': ['10 - 14 let','15 - 19 let'],\n",
    "    'dospeli': ['20 - 24 let', '25 - 29 let', '30 - 34 let', '35 - 39 let', '40 - 44 let', '45 - 49 let', '50 - 54 let', '55 - 59 let'],\n",
    "    'stari': ['60 - 64 let', '65 - 69 let', '70 - 74 let', '75 - 79 let', '80 - 84 let', '85 - 89 let', '90 - 94 let', '95 - 99 let', '100 a více let'],\n",
    "}"
   ]
  },
  {
   "cell_type": "code",
   "execution_count": 12,
   "metadata": {
    "ExecuteTime": {
     "end_time": "2024-03-02T15:10:09.396161Z",
     "start_time": "2024-03-02T15:10:03.635986Z"
    }
   },
   "outputs": [],
   "source": [
    "analysis_result = dict()\n",
    "\n",
    "# Celkový počet obyvatel\n",
    "analysis_result['count'] = int(data[(data['uzemi_cis'] == 97) & (data['vek_txt'].isnull()) & (data['pohlavi_txt'].isnull())]['hodnota'])\n",
    "\n",
    "# Celkový počet obyvatel podle pohlaví\n",
    "analysis_result['count_women'] = int(data[(data['uzemi_cis'] == 97) & (data['vek_txt'].isnull()) & (data['pohlavi_kod'] == 2)]['hodnota'])\n",
    "analysis_result['count_men'] = int(data[(data['uzemi_cis'] == 97) & (data['vek_txt'].isnull()) & (data['pohlavi_kod'] == 1)]['hodnota'])\n",
    "\n",
    "# Celkový počet obyvatel podle věku\n",
    "analysis_result['count_ages'] = {}\n",
    "for key, value in cis_vek.items():\n",
    "    analysis_result['count_ages'][value] = int(data[(data['uzemi_cis'] == 97) & (data['vek_kod'] == key) & (data['pohlavi_txt'].isnull())]['hodnota'])\n",
    "\n",
    "# Celkový počet obyvatel podle věku a pohlaví\n",
    "analysis_result['count_age_sex'] = {}\n",
    "for key, value in cis_vek.items():\n",
    "    analysis_result['count_age_sex'][value] = {}\n",
    "    analysis_result['count_age_sex'][value]['women'] = int(data[(data['uzemi_cis'] == 97) & (data['vek_kod'] == key) & (data['pohlavi_kod'] == 2)]['hodnota'])\n",
    "    analysis_result['count_age_sex'][value]['men'] = int(data[(data['uzemi_cis'] == 97) & (data['vek_kod'] == key) & (data['pohlavi_kod'] == 1)]['hodnota'])\n",
    "\n",
    "# Celkový počet obyvatel podle věkových fází (období)\n",
    "analysis_result['count_age_phase'] = {}\n",
    "for key, value in veky_podle_fazi.items():\n",
    "    analysis_result['count_age_phase'][key] = 0\n",
    "    for phase in value:\n",
    "        analysis_result['count_age_phase'][key] += int(data[(data['uzemi_cis'] == 97) & (data['vek_txt'] == phase) & (data['pohlavi_txt'].isnull())]['hodnota'])\n",
    "\n",
    "# Celkový počet obyvatel podle věkových fází (období) a pohlaví\n",
    "analysis_result['count_age_phase_sex'] = {}\n",
    "for key, value in veky_podle_fazi.items():\n",
    "    analysis_result['count_age_phase_sex'][key] = {}\n",
    "    analysis_result['count_age_phase_sex'][key]['women'] = 0\n",
    "    analysis_result['count_age_phase_sex'][key]['men'] = 0\n",
    "    for phase in value:\n",
    "        analysis_result['count_age_phase_sex'][key]['women'] += int(data[(data['uzemi_cis'] == 97) & (data['vek_txt'] == phase) & (data['pohlavi_kod'] == 2)]['hodnota'])\n",
    "        analysis_result['count_age_phase_sex'][key]['men'] += int(data[(data['uzemi_cis'] == 97) & (data['vek_txt'] == phase) & (data['pohlavi_kod'] == 1)]['hodnota'])\n",
    "\n",
    "# Celkový počet obyvatel podle okresu, věku a pohlaví\n",
    "analysis_result['count_sex_district'] = {}\n",
    "for key, value in cis_okresy.items():\n",
    "    key_int = int(key)\n",
    "    analysis_result['count_sex_district'][key_int] = {}\n",
    "    analysis_result['count_sex_district'][key_int]['name'] = value\n",
    "    analysis_result['count_sex_district'][key_int]['data'] = {}\n",
    "    analysis_result['count_sex_district'][key_int]['data']['women'] = []\n",
    "    analysis_result['count_sex_district'][key_int]['data']['men'] = []\n",
    "    for key2, value2 in cis_vek.items(): \n",
    "        analysis_result['count_sex_district'][key_int]['data']['women'].append(int(data[(data['uzemi_kod'] == key_int) & (data['uzemi_cis'] == 101) & (data['pohlavi_kod'] == 2) & (data['vek_txt'] == value2)]['hodnota']))\n",
    "        analysis_result['count_sex_district'][key_int]['data']['men'].append(int(data[(data['uzemi_kod'] == key_int) & (data['uzemi_cis'] == 101) & (data['pohlavi_kod'] == 1) & (data['vek_txt'] == value2)]['hodnota']))"
   ]
  },
  {
   "cell_type": "markdown",
   "metadata": {},
   "source": [
    "# Výsledky analýzy"
   ]
  },
  {
   "cell_type": "code",
   "execution_count": 13,
   "metadata": {
    "ExecuteTime": {
     "end_time": "2024-03-02T15:10:16.533356Z",
     "start_time": "2024-03-02T15:10:16.524029Z"
    }
   },
   "outputs": [
    {
     "name": "stdout",
     "output_type": "stream",
     "text": [
      "Celkový počet obyvatel: 10,524,167\n",
      "\n",
      "Celkový počet žen: 5,337,619 (50.72%)\n",
      "\n",
      "Celkový počet muž: 5,186,548 (49.28%)\n",
      "\n",
      "Celkový počet obyvatel podle věku:\n",
      "\t=> 0 - 4 roky: 560632 (5.33%)\n",
      "\t=> 5 - 9 let: 550024 (5.23%)\n",
      "\t=> 10 - 14 let: 581104 (5.52%)\n",
      "\t=> 15 - 19 let: 489836 (4.65%)\n",
      "\t=> 20 - 24 let: 477063 (4.53%)\n",
      "\t=> 25 - 29 let: 601168 (5.71%)\n",
      "\t=> 30 - 34 let: 690561 (6.56%)\n",
      "\t=> 35 - 39 let: 719089 (6.83%)\n",
      "\t=> 40 - 44 let: 857917 (8.15%)\n",
      "\t=> 45 - 49 let: 877616 (8.34%)\n",
      "\t=> 50 - 54 let: 688110 (6.54%)\n",
      "\t=> 55 - 59 let: 666391 (6.33%)\n",
      "\t=> 60 - 64 let: 616608 (5.86%)\n",
      "\t=> 65 - 69 let: 668081 (6.35%)\n",
      "\t=> 70 - 74 let: 618629 (5.88%)\n",
      "\t=> 75 - 79 let: 419368 (3.98%)\n",
      "\t=> 80 - 84 let: 243373 (2.31%)\n",
      "\t=> 85 - 89 let: 135311 (1.29%)\n",
      "\t=> 90 - 94 let: 52786 (0.50%)\n",
      "\t=> 95 - 99 let: 9853 (0.09%)\n",
      "\t=> 100 a více let: 647 (0.01%)\n",
      "\n",
      "Celkový počet obyvatel podle věku a pohlaví:\n",
      "\t=> 0 - 4 roky:\n",
      "\t\t=> women: 273743\n",
      "\t\t=> men: 286889\n",
      "\t=> 5 - 9 let:\n",
      "\t\t=> women: 267952\n",
      "\t\t=> men: 282072\n",
      "\t=> 10 - 14 let:\n",
      "\t\t=> women: 283743\n",
      "\t\t=> men: 297361\n",
      "\t=> 15 - 19 let:\n",
      "\t\t=> women: 238290\n",
      "\t\t=> men: 251546\n",
      "\t=> 20 - 24 let:\n",
      "\t\t=> women: 231724\n",
      "\t\t=> men: 245339\n",
      "\t=> 25 - 29 let:\n",
      "\t\t=> women: 290569\n",
      "\t\t=> men: 310599\n",
      "\t=> 30 - 34 let:\n",
      "\t\t=> women: 333508\n",
      "\t\t=> men: 357053\n",
      "\t=> 35 - 39 let:\n",
      "\t\t=> women: 347389\n",
      "\t\t=> men: 371700\n",
      "\t=> 40 - 44 let:\n",
      "\t\t=> women: 414631\n",
      "\t\t=> men: 443286\n",
      "\t=> 45 - 49 let:\n",
      "\t\t=> women: 426913\n",
      "\t\t=> men: 450703\n",
      "\t=> 50 - 54 let:\n",
      "\t\t=> women: 337187\n",
      "\t\t=> men: 350923\n",
      "\t=> 55 - 59 let:\n",
      "\t\t=> women: 331655\n",
      "\t\t=> men: 334736\n",
      "\t=> 60 - 64 let:\n",
      "\t\t=> women: 315642\n",
      "\t\t=> men: 300966\n",
      "\t=> 65 - 69 let:\n",
      "\t\t=> women: 356534\n",
      "\t\t=> men: 311547\n",
      "\t=> 70 - 74 let:\n",
      "\t\t=> women: 345900\n",
      "\t\t=> men: 272729\n",
      "\t=> 75 - 79 let:\n",
      "\t\t=> women: 249134\n",
      "\t\t=> men: 170234\n",
      "\t=> 80 - 84 let:\n",
      "\t\t=> women: 153868\n",
      "\t\t=> men: 89505\n",
      "\t=> 85 - 89 let:\n",
      "\t\t=> women: 92099\n",
      "\t\t=> men: 43212\n",
      "\t=> 90 - 94 let:\n",
      "\t\t=> women: 38676\n",
      "\t\t=> men: 14110\n",
      "\t=> 95 - 99 let:\n",
      "\t\t=> women: 7926\n",
      "\t\t=> men: 1927\n",
      "\t=> 100 a více let:\n",
      "\t\t=> women: 536\n",
      "\t\t=> men: 111\n",
      "\n",
      "Celkový počet obyvatel podle věkoých fází:\n",
      "\t=> deti: 1110656 (10.55%)\n",
      "\t=> dospivani: 1070940 (10.18%)\n",
      "\t=> dospeli: 5577915 (53.00%)\n",
      "\t=> stari: 2764656 (26.27%)\n",
      "\n",
      "Celkový počet obyvatel podle věkových fází a pohlaví:\n",
      "\t=> deti:\n",
      "\t\t=> women: 541695\n",
      "\t\t=> men: 568961\n",
      "\t=> dospivani:\n",
      "\t\t=> women: 522033\n",
      "\t\t=> men: 548907\n",
      "\t=> dospeli:\n",
      "\t\t=> women: 2713576\n",
      "\t\t=> men: 2864339\n",
      "\t=> stari:\n",
      "\t\t=> women: 1560315\n",
      "\t\t=> men: 1204341\n"
     ]
    }
   ],
   "source": [
    "# Celkový počet obyvatel\n",
    "print(f\"Celkový počet obyvatel: {format_with_commas(analysis_result['count'])}\")\n",
    "print(f\"\\nCelkový počet žen: {format_with_commas(analysis_result['count_women'])} ({(analysis_result['count_women'] / analysis_result['count'])*100:.2f}%)\")\n",
    "print(f\"\\nCelkový počet muž: {format_with_commas(analysis_result['count_men'])} ({(analysis_result['count_men'] / analysis_result['count'])*100:.2f}%)\")\n",
    "print_dictionary_ages(\"\\nCelkový počet obyvatel podle věku:\", analysis_result['count_ages'])\n",
    "print_dictionary_ages_sex(\"\\nCelkový počet obyvatel podle věku a pohlaví:\", analysis_result['count_age_sex'])\n",
    "print_dictionary_ages(\"\\nCelkový počet obyvatel podle věkoých fází:\", analysis_result['count_age_phase'])\n",
    "print_dictionary_ages_sex(\"\\nCelkový počet obyvatel podle věkových fází a pohlaví:\", analysis_result['count_age_phase_sex'])\n",
    "# print_dictionary_ages_sex(\"\\nCelkový počet obyvatel podle pohlaví a kraje:\", analysis_result['count_sex_district'])\n",
    "# pprint.pprint(analysis_result['count_sex_district'])\n",
    "# output = json.dumps(analysis_result['count_sex_district'], ensure_ascii=False).encode('utf8')\n",
    "# with open('output.json', 'w') as f:\n",
    "#     f.write(output.decode())"
   ]
  }
 ],
 "metadata": {
  "kernelspec": {
   "display_name": "Python 3 (ipykernel)",
   "language": "python",
   "name": "python3"
  },
  "language_info": {
   "codemirror_mode": {
    "name": "ipython",
    "version": 3
   },
   "file_extension": ".py",
   "mimetype": "text/x-python",
   "name": "python",
   "nbconvert_exporter": "python",
   "pygments_lexer": "ipython3",
   "version": "3.10.12"
  }
 },
 "nbformat": 4,
 "nbformat_minor": 4
}
