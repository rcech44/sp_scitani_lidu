{
 "cells": [
  {
   "cell_type": "markdown",
   "metadata": {},
   "source": [
    "# Analýza věku a pohlaví podle pětiletých věkových skupin"
   ]
  },
  {
   "cell_type": "markdown",
   "metadata": {},
   "source": [
    "### Import knihoven\n"
   ]
  },
  {
   "cell_type": "code",
   "execution_count": 12,
   "metadata": {
    "ExecuteTime": {
     "end_time": "2024-03-02T15:13:04.518383Z",
     "start_time": "2024-03-02T15:13:03.691575Z"
    }
   },
   "outputs": [],
   "source": [
    "import pandas as pd\n",
    "import numpy as np\n",
    "import pymongo\n",
    "import utils.data_loader as data_loader\n",
    "import pprint\n",
    "import json"
   ]
  },
  {
   "cell_type": "markdown",
   "metadata": {},
   "source": [
    "### Poznámky"
   ]
  },
  {
   "cell_type": "code",
   "execution_count": 2,
   "metadata": {},
   "outputs": [],
   "source": [
    "# https://www.czso.cz/csu/rso/uzemne_technicke_jednotky\n",
    "# https://scitani.gov.cz/vysledky\n",
    "# https://www.czso.cz/csu/czso/vysledky-scitani-2021-otevrena-data"
   ]
  },
  {
   "cell_type": "markdown",
   "metadata": {},
   "source": [
    "### Pomocné funkce"
   ]
  },
  {
   "cell_type": "code",
   "execution_count": 2,
   "metadata": {
    "ExecuteTime": {
     "end_time": "2024-03-02T15:09:36.459764Z",
     "start_time": "2024-03-02T15:09:36.452104Z"
    }
   },
   "outputs": [],
   "source": [
    "# Tisk čísla s oddělovači čárek\n",
    "def format_with_commas(number):\n",
    "    return \"{:,}\".format(number)\n",
    "\n",
    "# Hezký tisk slovníku pro věk\n",
    "def print_dictionary_ages(text, dict):\n",
    "    print(f\"{text}\")\n",
    "    for key, value in dict.items():\n",
    "        print(f\"\\t=> {key}: {value} ({(value / analysis_result['count'])*100:.2f}%)\")\n",
    "\n",
    "# Hezký tisk slovníku pro věk a pohlaví\n",
    "def print_dictionary_ages_sex(text, dict):\n",
    "    print(f\"{text}\")\n",
    "    for key, value in dict.items():\n",
    "        print(f\"\\t=> {key}:\")\n",
    "        for key, value in value.items():\n",
    "            print(f\"\\t\\t=> {key}: {value}\")"
   ]
  },
  {
   "cell_type": "markdown",
   "metadata": {},
   "source": [
    "### Uložení CSV dat do MongoDB"
   ]
  },
  {
   "cell_type": "code",
   "execution_count": 4,
   "metadata": {},
   "outputs": [],
   "source": [
    "data_loader.load_csv_into_db(\"vek_pohlavi_5\", \"../data_original/sldb2021_vek5_pohlavi.csv\")"
   ]
  },
  {
   "cell_type": "markdown",
   "metadata": {},
   "source": [
    "### Načtení dat do paměti z MongoDB"
   ]
  },
  {
   "cell_type": "code",
   "execution_count": 3,
   "metadata": {
    "ExecuteTime": {
     "end_time": "2024-03-02T15:09:51.831201Z",
     "start_time": "2024-03-02T15:09:45.782263Z"
    }
   },
   "outputs": [],
   "source": [
    "data = data_loader.load_from_db(\"vek_pohlavi_5\")"
   ]
  },
  {
   "cell_type": "markdown",
   "metadata": {},
   "source": [
    "### Analýza"
   ]
  },
  {
   "cell_type": "code",
   "execution_count": 4,
   "metadata": {
    "ExecuteTime": {
     "end_time": "2024-03-02T15:09:56.514624Z",
     "start_time": "2024-03-02T15:09:56.507256Z"
    }
   },
   "outputs": [],
   "source": [
    "# Pomocné CIS kódy\n",
    "cis_vek = {\n",
    "    1100000004: '0 - 4 roky',\n",
    "    1300050009: '5 - 9 let',\n",
    "    1300100014: '10 - 14 let',\n",
    "    1300150019: '15 - 19 let',\n",
    "    1300200024: '20 - 24 let',\n",
    "    1300250029: '25 - 29 let',\n",
    "    1300300034: '30 - 34 let',\n",
    "    1300350039: '35 - 39 let',\n",
    "    1300400044: '40 - 44 let',\n",
    "    1300450049: '45 - 49 let',\n",
    "    1300500054: '50 - 54 let',\n",
    "    1300550059: '55 - 59 let',\n",
    "    1300600064: '60 - 64 let',\n",
    "    1300650069: '65 - 69 let',\n",
    "    1300700074: '70 - 74 let',\n",
    "    1300750079: '75 - 79 let',\n",
    "    1300800084: '80 - 84 let',\n",
    "    1300850089: '85 - 89 let',\n",
    "    1300900094: '90 - 94 let',\n",
    "    1300950099: '95 - 99 let',\n",
    "    1201009999: '100 a více let'\n",
    "}\n",
    "\n",
    "cis_kraje = {\n",
    "    3026: 'Středočeský kraj',\n",
    "    3018: 'Hlavní město Praha',\n",
    "    3115: 'Jihomoravský kraj',\n",
    "    3140: 'Moravskoslezský kraj',\n",
    "    3069: 'Ústecký kraj',\n",
    "    3034: 'Jihočeský kraj',\n",
    "    3123: 'Olomoucký kraj',\n",
    "    3042: 'Plzeňský kraj',\n",
    "    3131: 'Zlínský kraj',\n",
    "    3085: 'Královéhradecký kraj',\n",
    "    3093: 'Pardubický kraj',\n",
    "    3107: 'Kraj Vysočina',\n",
    "    3077: 'Liberecký kraj',\n",
    "    3051: 'Karlovarský kraj'\n",
    "}\n",
    "\n",
    "veky_podle_fazi = {\n",
    "    'deti': ['0 - 4 roky', '5 - 9 let'],\n",
    "    'dospivani': ['10 - 14 let','15 - 19 let'],\n",
    "    'dospeli': ['20 - 24 let', '25 - 29 let', '30 - 34 let', '35 - 39 let', '40 - 44 let', '45 - 49 let', '50 - 54 let', '55 - 59 let'],\n",
    "    'stari': ['65 - 69 let', '70 - 74 let', '75 - 79 let', '80 - 84 let', '85 - 89 let', '95 - 99 let', '100 a více let'],\n",
    "}"
   ]
  },
  {
   "cell_type": "code",
   "execution_count": 28,
   "metadata": {
    "ExecuteTime": {
     "end_time": "2024-03-02T15:10:09.396161Z",
     "start_time": "2024-03-02T15:10:03.635986Z"
    }
   },
   "outputs": [],
   "source": [
    "analysis_result = dict()\n",
    "\n",
    "# Celkový počet obyvatel\n",
    "# analysis_result['count'] = int(data[(data['uzemi_cis'] == 97) & (data['vek_txt'].isnull()) & (data['pohlavi_txt'].isnull())]['hodnota'])\n",
    "\n",
    "# # Celkový počet obyvatel podle pohlaví\n",
    "# analysis_result['count_women'] = int(data[(data['uzemi_cis'] == 97) & (data['vek_txt'].isnull()) & (data['pohlavi_kod'] == 2)]['hodnota'])\n",
    "# analysis_result['count_men'] = int(data[(data['uzemi_cis'] == 97) & (data['vek_txt'].isnull()) & (data['pohlavi_kod'] == 1)]['hodnota'])\n",
    "\n",
    "# # Celkový počet obyvatel podle věku\n",
    "# analysis_result['count_ages'] = {}\n",
    "# for key, value in cis_vek.items():\n",
    "#     analysis_result['count_ages'][value] = int(data[(data['uzemi_cis'] == 97) & (data['vek_kod'] == key) & (data['pohlavi_txt'].isnull())]['hodnota'])\n",
    "\n",
    "# # Celkový počet obyvatel podle věku a pohlaví\n",
    "# analysis_result['count_age_sex'] = {}\n",
    "# for key, value in cis_vek.items():\n",
    "#     analysis_result['count_age_sex'][value] = {}\n",
    "#     analysis_result['count_age_sex'][value]['women'] = int(data[(data['uzemi_cis'] == 97) & (data['vek_kod'] == key) & (data['pohlavi_kod'] == 2)]['hodnota'])\n",
    "#     analysis_result['count_age_sex'][value]['men'] = int(data[(data['uzemi_cis'] == 97) & (data['vek_kod'] == key) & (data['pohlavi_kod'] == 1)]['hodnota'])\n",
    "\n",
    "# # Celkový počet obyvatel podle věkových fází (období)\n",
    "# analysis_result['count_age_phase'] = {}\n",
    "# for key, value in veky_podle_fazi.items():\n",
    "#     analysis_result['count_age_phase'][key] = 0\n",
    "#     for phase in value:\n",
    "#         analysis_result['count_age_phase'][key] += int(data[(data['uzemi_cis'] == 97) & (data['vek_txt'] == phase) & (data['pohlavi_txt'].isnull())]['hodnota'])\n",
    "\n",
    "# # Celkový počet obyvatel podle věkových fází (období) a pohlaví\n",
    "# analysis_result['count_age_phase_sex'] = {}\n",
    "# for key, value in veky_podle_fazi.items():\n",
    "#     analysis_result['count_age_phase_sex'][key] = {}\n",
    "#     analysis_result['count_age_phase_sex'][key]['women'] = 0\n",
    "#     analysis_result['count_age_phase_sex'][key]['men'] = 0\n",
    "#     for phase in value:\n",
    "#         analysis_result['count_age_phase_sex'][key]['women'] += int(data[(data['uzemi_cis'] == 97) & (data['vek_txt'] == phase) & (data['pohlavi_kod'] == 2)]['hodnota'])\n",
    "#         analysis_result['count_age_phase_sex'][key]['men'] += int(data[(data['uzemi_cis'] == 97) & (data['vek_txt'] == phase) & (data['pohlavi_kod'] == 1)]['hodnota'])\n",
    "\n",
    "# Celkový počet obyvatel podle krajů, věku a pohlaví\n",
    "analysis_result['count_sex_district'] = {}\n",
    "for key, value in cis_kraje.items():\n",
    "    key_int = int(key)\n",
    "    analysis_result['count_sex_district'][key_int] = {}\n",
    "    analysis_result['count_sex_district'][key_int]['name'] = value\n",
    "    analysis_result['count_sex_district'][key_int]['data'] = {}\n",
    "    analysis_result['count_sex_district'][key_int]['data']['women'] = []\n",
    "    analysis_result['count_sex_district'][key_int]['data']['men'] = []\n",
    "    for key2, value2 in cis_vek.items(): \n",
    "        analysis_result['count_sex_district'][key_int]['data']['women'].append(int(data[(data['uzemi_kod'] == key_int) & (data['uzemi_cis'] == 100) & (data['pohlavi_kod'] == 2) & (data['vek_txt'] == value2)]['hodnota']))\n",
    "        analysis_result['count_sex_district'][key_int]['data']['men'].append(int(data[(data['uzemi_kod'] == key_int) & (data['uzemi_cis'] == 100) & (data['pohlavi_kod'] == 1) & (data['vek_txt'] == value2)]['hodnota']))"
   ]
  },
  {
   "cell_type": "markdown",
   "metadata": {},
   "source": [
    "# Výsledky analýzy"
   ]
  },
  {
   "cell_type": "code",
   "execution_count": 26,
   "metadata": {
    "ExecuteTime": {
     "end_time": "2024-03-02T15:10:16.533356Z",
     "start_time": "2024-03-02T15:10:16.524029Z"
    }
   },
   "outputs": [],
   "source": [
    "# Celkový počet obyvatel\n",
    "# print(f\"Celkový počet obyvatel: {format_with_commas(analysis_result['count'])}\")\n",
    "# print(f\"\\nCelkový počet žen: {format_with_commas(analysis_result['count_women'])} ({(analysis_result['count_women'] / analysis_result['count'])*100:.2f}%)\")\n",
    "# print(f\"\\nCelkový počet muž: {format_with_commas(analysis_result['count_men'])} ({(analysis_result['count_men'] / analysis_result['count'])*100:.2f}%)\")\n",
    "# print_dictionary_ages(\"\\nCelkový počet obyvatel podle věku:\", analysis_result['count_ages'])\n",
    "# print_dictionary_ages_sex(\"\\nCelkový počet obyvatel podle věku a pohlaví:\", analysis_result['count_age_sex'])\n",
    "# print_dictionary_ages(\"\\nCelkový počet obyvatel podle věkoých fází:\", analysis_result['count_age_phase'])\n",
    "# print_dictionary_ages_sex(\"\\nCelkový počet obyvatel podle věkových fází a pohlaví:\", analysis_result['count_age_phase_sex'])\n",
    "# print_dictionary_ages_sex(\"\\nCelkový počet obyvatel podle pohlaví a kraje:\", analysis_result['count_sex_district'])\n",
    "# pprint.pprint(analysis_result['count_sex_district'])\n",
    "output = json.dumps(analysis_result['count_sex_district'], ensure_ascii=False).encode('utf8')\n",
    "with open('output.json', 'w') as f:\n",
    "    f.write(output.decode())"
   ]
  },
  {
   "cell_type": "code",
   "execution_count": null,
   "metadata": {},
   "outputs": [],
   "source": []
  }
 ],
 "metadata": {
  "kernelspec": {
   "display_name": "Python 3 (ipykernel)",
   "language": "python",
   "name": "python3"
  },
  "language_info": {
   "codemirror_mode": {
    "name": "ipython",
    "version": 3
   },
   "file_extension": ".py",
   "mimetype": "text/x-python",
   "name": "python",
   "nbconvert_exporter": "python",
   "pygments_lexer": "ipython3",
   "version": "3.10.12"
  }
 },
 "nbformat": 4,
 "nbformat_minor": 4
}
