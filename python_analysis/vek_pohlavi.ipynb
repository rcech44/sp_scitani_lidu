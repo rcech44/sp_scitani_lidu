{
 "cells": [
  {
   "cell_type": "markdown",
   "metadata": {},
   "source": [
    "# Analýza věku a pohlaví podle pětiletých věkových skupin"
   ]
  },
  {
   "cell_type": "markdown",
   "metadata": {},
   "source": [
    "### Import knihoven\n"
   ]
  },
  {
   "cell_type": "code",
   "execution_count": 1,
   "metadata": {},
   "outputs": [],
   "source": [
    "import pandas as pd\n",
    "import numpy as np\n",
    "import pymongo"
   ]
  },
  {
   "cell_type": "markdown",
   "metadata": {},
   "source": [
    "### Poznámky"
   ]
  },
  {
   "cell_type": "code",
   "execution_count": null,
   "metadata": {},
   "outputs": [],
   "source": [
    "# https://www.czso.cz/csu/rso/uzemne_technicke_jednotky\n",
    "# https://scitani.gov.cz/vysledky\n",
    "# https://www.czso.cz/csu/czso/vysledky-scitani-2021-otevrena-data"
   ]
  },
  {
   "cell_type": "markdown",
   "metadata": {},
   "source": [
    "### Pomocné funkce"
   ]
  },
  {
   "cell_type": "code",
   "execution_count": 36,
   "metadata": {},
   "outputs": [],
   "source": [
    "# Tisk čísla s oddělovači čárek\n",
    "def format_with_commas(number):\n",
    "    return \"{:,}\".format(number)\n",
    "\n",
    "# Hezký tisk slovníku\n",
    "def print_dictionary_ages(text, dict):\n",
    "    print(f\"{text}\")\n",
    "    for key, value in dict.items():\n",
    "        print(f\"\\t=> {key}: {value} ({(value / analysis_result['count'])*100:.2f}%)\")"
   ]
  },
  {
   "cell_type": "markdown",
   "metadata": {},
   "source": [
    "### Načtení dat do paměti z MongoDB"
   ]
  },
  {
   "cell_type": "code",
   "execution_count": null,
   "metadata": {},
   "outputs": [],
   "source": [
    "client = pymongo.MongoClient(\"mongodb://localhost:27017/\")\n",
    "db = client[\"scitani_lidu\"]\n",
    "collection = db[\"obyvatelstvo_pohlavi_vek_5\"]\n",
    "\n",
    "data = []\n",
    "\n",
    "for index, document in enumerate(collection.find()):\n",
    "    data.append(document)\n",
    "\n",
    "data = pd.DataFrame(data)\n",
    "data = data.replace({np.nan: None})"
   ]
  },
  {
   "cell_type": "markdown",
   "metadata": {},
   "source": [
    "### Analýza"
   ]
  },
  {
   "cell_type": "code",
   "execution_count": 19,
   "metadata": {},
   "outputs": [],
   "source": [
    "# Pomocné CIS kódy\n",
    "cis_vek = {\n",
    "    1100000004: '0 - 4 roky',\n",
    "    1300050009: '5 - 9 let',\n",
    "    1300100014: '10 - 14 let',\n",
    "    1300150019: '15 - 19 let',\n",
    "    1300200024: '20 - 24 let',\n",
    "    1300250029: '25 - 29 let',\n",
    "    1300300034: '30 - 34 let',\n",
    "    1300350039: '35 - 39 let',\n",
    "    1300400044: '40 - 44 let',\n",
    "    1300450049: '45 - 49 let',\n",
    "    1300500054: '50 - 54 let',\n",
    "    1300550059: '55 - 59 let',\n",
    "    1300600064: '60 - 64 let',\n",
    "    1300650069: '65 - 69 let',\n",
    "    1300700074: '70 - 74 let',\n",
    "    1300750079: '75 - 79 let',\n",
    "    1300800084: '80 - 84 let',\n",
    "    1300850089: '85 - 89 let',\n",
    "    1300900094: '90 - 94 let',\n",
    "    1300950099: '95 - 99 let',\n",
    "    1201009999: '100 a více let'\n",
    "}"
   ]
  },
  {
   "cell_type": "code",
   "execution_count": 28,
   "metadata": {},
   "outputs": [],
   "source": [
    "analysis_result = dict()\n",
    "\n",
    "# Celkový počet obyvatel\n",
    "analysis_result['count'] = int(data[(data['uzemi_cis'] == 97) & (data['vek_txt'].isnull()) & (data['pohlavi_txt'].isnull())]['hodnota'])\n",
    "\n",
    "# Celkový počet obyvatel podle pohlaví\n",
    "analysis_result['count_women'] = int(data[(data['uzemi_cis'] == 97) & (data['vek_txt'].isnull()) & (data['pohlavi_kod'] == 2)]['hodnota'])\n",
    "analysis_result['count_men'] = int(data[(data['uzemi_cis'] == 97) & (data['vek_txt'].isnull()) & (data['pohlavi_kod'] == 1)]['hodnota'])\n",
    "\n",
    "# Celkový počet obyvatel podle věku\n",
    "analysis_result['count_ages'] = {}\n",
    "for key, value in cis_vek.items():\n",
    "    analysis_result['count_ages'][value] = int(data[(data['uzemi_cis'] == 97) & (data['vek_kod'] == key) & (data['pohlavi_txt'].isnull())]['hodnota'])"
   ]
  },
  {
   "cell_type": "markdown",
   "metadata": {},
   "source": [
    "### Výsledky analýzy"
   ]
  },
  {
   "cell_type": "code",
   "execution_count": 37,
   "metadata": {},
   "outputs": [
    {
     "name": "stdout",
     "output_type": "stream",
     "text": [
      "Celkový počet obyvatel: 10,524,167\n",
      "Celkový počet žen: 5,337,619 (50.72%)\n",
      "Celkový počet muž: 5,186,548 (49.28%)\n",
      "Celkový počet obyvatel podle věku:\n",
      "\t=> 0 - 4 roky: 560632 (5.33%)\n",
      "\t=> 5 - 9 let: 550024 (5.23%)\n",
      "\t=> 10 - 14 let: 581104 (5.52%)\n",
      "\t=> 15 - 19 let: 489836 (4.65%)\n",
      "\t=> 20 - 24 let: 477063 (4.53%)\n",
      "\t=> 25 - 29 let: 601168 (5.71%)\n",
      "\t=> 30 - 34 let: 690561 (6.56%)\n",
      "\t=> 35 - 39 let: 719089 (6.83%)\n",
      "\t=> 40 - 44 let: 857917 (8.15%)\n",
      "\t=> 45 - 49 let: 877616 (8.34%)\n",
      "\t=> 50 - 54 let: 688110 (6.54%)\n",
      "\t=> 55 - 59 let: 666391 (6.33%)\n",
      "\t=> 60 - 64 let: 616608 (5.86%)\n",
      "\t=> 65 - 69 let: 668081 (6.35%)\n",
      "\t=> 70 - 74 let: 618629 (5.88%)\n",
      "\t=> 75 - 79 let: 419368 (3.98%)\n",
      "\t=> 80 - 84 let: 243373 (2.31%)\n",
      "\t=> 85 - 89 let: 135311 (1.29%)\n",
      "\t=> 90 - 94 let: 52786 (0.50%)\n",
      "\t=> 95 - 99 let: 9853 (0.09%)\n",
      "\t=> 100 a více let: 647 (0.01%)\n"
     ]
    }
   ],
   "source": [
    "# Celkový počet obyvatel\n",
    "print(f\"Celkový počet obyvatel: {format_with_commas(analysis_result['count'])}\")\n",
    "print(f\"Celkový počet žen: {format_with_commas(analysis_result['count_women'])} ({(analysis_result['count_women'] / analysis_result['count'])*100:.2f}%)\")\n",
    "print(f\"Celkový počet muž: {format_with_commas(analysis_result['count_men'])} ({(analysis_result['count_men'] / analysis_result['count'])*100:.2f}%)\")\n",
    "print_dictionary_ages(\"Celkový počet obyvatel podle věku:\", analysis_result['count_ages'])"
   ]
  }
 ],
 "metadata": {
  "kernelspec": {
   "display_name": "Python 3",
   "language": "python",
   "name": "python3"
  },
  "language_info": {
   "codemirror_mode": {
    "name": "ipython",
    "version": 3
   },
   "file_extension": ".py",
   "mimetype": "text/x-python",
   "name": "python",
   "nbconvert_exporter": "python",
   "pygments_lexer": "ipython3",
   "version": "3.10.12"
  }
 },
 "nbformat": 4,
 "nbformat_minor": 2
}
