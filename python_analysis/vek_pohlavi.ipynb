{
 "cells": [
  {
   "cell_type": "markdown",
   "metadata": {},
   "source": [
    "# Analýza věku a pohlaví podle pětiletých věkových skupin"
   ]
  },
  {
   "cell_type": "markdown",
   "metadata": {},
   "source": [
    "### Import knihoven\n"
   ]
  },
  {
   "cell_type": "code",
   "execution_count": 1,
   "metadata": {},
   "outputs": [],
   "source": [
    "import pandas as pd\n",
    "import numpy as np\n",
    "import pymongo"
   ]
  },
  {
   "cell_type": "markdown",
   "metadata": {},
   "source": [
    "### Poznámky"
   ]
  },
  {
   "cell_type": "code",
   "execution_count": null,
   "metadata": {},
   "outputs": [],
   "source": [
    "# https://www.czso.cz/csu/rso/uzemne_technicke_jednotky\n",
    "# https://scitani.gov.cz/vysledky\n",
    "# https://www.czso.cz/csu/czso/vysledky-scitani-2021-otevrena-data"
   ]
  },
  {
   "cell_type": "markdown",
   "metadata": {},
   "source": [
    "### Pomocné funkce"
   ]
  },
  {
   "cell_type": "code",
   "execution_count": 11,
   "metadata": {},
   "outputs": [],
   "source": [
    "# Tisk čísla s oddělovači čárek\n",
    "def format_with_commas(number):\n",
    "    return \"{:,}\".format(number)\n",
    "\n",
    "# Hezký tisk slovníku pro věk\n",
    "def print_dictionary_ages(text, dict):\n",
    "    print(f\"{text}\")\n",
    "    for key, value in dict.items():\n",
    "        print(f\"\\t=> {key}: {value} ({(value / analysis_result['count'])*100:.2f}%)\")\n",
    "\n",
    "# Hezký tisk slovníku pro věk a pohlaví\n",
    "def print_dictionary_ages_sex(text, dict):\n",
    "    print(f\"{text}\")\n",
    "    for key, value in dict.items():\n",
    "        print(f\"\\t=> {key}:\")\n",
    "        for key, value in value.items():\n",
    "            print(f\"\\t\\t=> {key}: {value}\")"
   ]
  },
  {
   "cell_type": "markdown",
   "metadata": {},
   "source": [
    "### Načtení dat do paměti z MongoDB"
   ]
  },
  {
   "cell_type": "code",
   "execution_count": 3,
   "metadata": {},
   "outputs": [],
   "source": [
    "client = pymongo.MongoClient(\"mongodb://localhost:27017/\")\n",
    "db = client[\"scitani_lidu\"]\n",
    "collection = db[\"obyvatelstvo_pohlavi_vek_5\"]\n",
    "\n",
    "data = []\n",
    "\n",
    "for index, document in enumerate(collection.find()):\n",
    "    data.append(document)\n",
    "\n",
    "data = pd.DataFrame(data)\n",
    "data = data.replace({np.nan: None})"
   ]
  },
  {
   "cell_type": "markdown",
   "metadata": {},
   "source": [
    "### Analýza"
   ]
  },
  {
   "cell_type": "code",
   "execution_count": 18,
   "metadata": {},
   "outputs": [],
   "source": [
    "# Pomocné CIS kódy\n",
    "cis_vek = {\n",
    "    1100000004: '0 - 4 roky',\n",
    "    1300050009: '5 - 9 let',\n",
    "    1300100014: '10 - 14 let',\n",
    "    1300150019: '15 - 19 let',\n",
    "    1300200024: '20 - 24 let',\n",
    "    1300250029: '25 - 29 let',\n",
    "    1300300034: '30 - 34 let',\n",
    "    1300350039: '35 - 39 let',\n",
    "    1300400044: '40 - 44 let',\n",
    "    1300450049: '45 - 49 let',\n",
    "    1300500054: '50 - 54 let',\n",
    "    1300550059: '55 - 59 let',\n",
    "    1300600064: '60 - 64 let',\n",
    "    1300650069: '65 - 69 let',\n",
    "    1300700074: '70 - 74 let',\n",
    "    1300750079: '75 - 79 let',\n",
    "    1300800084: '80 - 84 let',\n",
    "    1300850089: '85 - 89 let',\n",
    "    1300900094: '90 - 94 let',\n",
    "    1300950099: '95 - 99 let',\n",
    "    1201009999: '100 a více let'\n",
    "}\n",
    "\n",
    "veky_podle_fazi = {\n",
    "    'deti': ['0 - 4 roky', '5 - 9 let'],\n",
    "    'dospivani': ['10 - 14 let','15 - 19 let'],\n",
    "    'dospeli': ['20 - 24 let', '25 - 29 let', '30 - 34 let', '35 - 39 let', '40 - 44 let', '45 - 49 let', '50 - 54 let', '55 - 59 let'],\n",
    "    'stari': ['65 - 69 let', '70 - 74 let', '75 - 79 let', '80 - 84 let', '85 - 89 let', '95 - 99 let', '100 a více let'],\n",
    "}"
   ]
  },
  {
   "cell_type": "code",
   "execution_count": 23,
   "metadata": {},
   "outputs": [],
   "source": [
    "analysis_result = dict()\n",
    "\n",
    "# Celkový počet obyvatel\n",
    "analysis_result['count'] = int(data[(data['uzemi_cis'] == 97) & (data['vek_txt'].isnull()) & (data['pohlavi_txt'].isnull())]['hodnota'])\n",
    "\n",
    "# Celkový počet obyvatel podle pohlaví\n",
    "analysis_result['count_women'] = int(data[(data['uzemi_cis'] == 97) & (data['vek_txt'].isnull()) & (data['pohlavi_kod'] == 2)]['hodnota'])\n",
    "analysis_result['count_men'] = int(data[(data['uzemi_cis'] == 97) & (data['vek_txt'].isnull()) & (data['pohlavi_kod'] == 1)]['hodnota'])\n",
    "\n",
    "# Celkový počet obyvatel podle věku\n",
    "analysis_result['count_ages'] = {}\n",
    "for key, value in cis_vek.items():\n",
    "    analysis_result['count_ages'][value] = int(data[(data['uzemi_cis'] == 97) & (data['vek_kod'] == key) & (data['pohlavi_txt'].isnull())]['hodnota'])\n",
    "\n",
    "# Celkový počet obyvatel podle věku a pohlaví\n",
    "analysis_result['count_age_sex'] = {}\n",
    "for key, value in cis_vek.items():\n",
    "    analysis_result['count_age_sex'][value] = {}\n",
    "    analysis_result['count_age_sex'][value]['women'] = int(data[(data['uzemi_cis'] == 97) & (data['vek_kod'] == key) & (data['pohlavi_kod'] == 2)]['hodnota'])\n",
    "    analysis_result['count_age_sex'][value]['men'] = int(data[(data['uzemi_cis'] == 97) & (data['vek_kod'] == key) & (data['pohlavi_kod'] == 1)]['hodnota'])\n",
    "\n",
    "# Celkový počet obyvatel podle věkových fází (období)\n",
    "analysis_result['count_age_phase'] = {}\n",
    "for key, value in veky_podle_fazi.items():\n",
    "    analysis_result['count_age_phase'][key] = 0\n",
    "    for phase in value:\n",
    "        analysis_result['count_age_phase'][key] += int(data[(data['uzemi_cis'] == 97) & (data['vek_txt'] == phase) & (data['pohlavi_txt'].isnull())]['hodnota'])\n",
    "\n",
    "# Celkový počet obyvatel podle věkových fází (období) a pohlaví\n",
    "analysis_result['count_age_phase_sex'] = {}\n",
    "for key, value in veky_podle_fazi.items():\n",
    "    analysis_result['count_age_phase_sex'][key] = {}\n",
    "    analysis_result['count_age_phase_sex'][key]['women'] = 0\n",
    "    analysis_result['count_age_phase_sex'][key]['men'] = 0\n",
    "    for phase in value:\n",
    "        analysis_result['count_age_phase_sex'][key]['women'] += int(data[(data['uzemi_cis'] == 97) & (data['vek_txt'] == phase) & (data['pohlavi_kod'] == 2)]['hodnota'])\n",
    "        analysis_result['count_age_phase_sex'][key]['men'] += int(data[(data['uzemi_cis'] == 97) & (data['vek_txt'] == phase) & (data['pohlavi_kod'] == 1)]['hodnota'])"
   ]
  },
  {
   "cell_type": "markdown",
   "metadata": {},
   "source": [
    "### Výsledky analýzy"
   ]
  },
  {
   "cell_type": "code",
   "execution_count": 25,
   "metadata": {},
   "outputs": [
    {
     "name": "stdout",
     "output_type": "stream",
     "text": [
      "\n",
      "Celkový počet obyvatel podle věku a pohlaví:\n",
      "\t=> 0 - 4 roky:\n",
      "\t\t=> women: 273743\n",
      "\t\t=> men: 286889\n",
      "\t=> 5 - 9 let:\n",
      "\t\t=> women: 267952\n",
      "\t\t=> men: 282072\n",
      "\t=> 10 - 14 let:\n",
      "\t\t=> women: 283743\n",
      "\t\t=> men: 297361\n",
      "\t=> 15 - 19 let:\n",
      "\t\t=> women: 238290\n",
      "\t\t=> men: 251546\n",
      "\t=> 20 - 24 let:\n",
      "\t\t=> women: 231724\n",
      "\t\t=> men: 245339\n",
      "\t=> 25 - 29 let:\n",
      "\t\t=> women: 290569\n",
      "\t\t=> men: 310599\n",
      "\t=> 30 - 34 let:\n",
      "\t\t=> women: 333508\n",
      "\t\t=> men: 357053\n",
      "\t=> 35 - 39 let:\n",
      "\t\t=> women: 347389\n",
      "\t\t=> men: 371700\n",
      "\t=> 40 - 44 let:\n",
      "\t\t=> women: 414631\n",
      "\t\t=> men: 443286\n",
      "\t=> 45 - 49 let:\n",
      "\t\t=> women: 426913\n",
      "\t\t=> men: 450703\n",
      "\t=> 50 - 54 let:\n",
      "\t\t=> women: 337187\n",
      "\t\t=> men: 350923\n",
      "\t=> 55 - 59 let:\n",
      "\t\t=> women: 331655\n",
      "\t\t=> men: 334736\n",
      "\t=> 60 - 64 let:\n",
      "\t\t=> women: 315642\n",
      "\t\t=> men: 300966\n",
      "\t=> 65 - 69 let:\n",
      "\t\t=> women: 356534\n",
      "\t\t=> men: 311547\n",
      "\t=> 70 - 74 let:\n",
      "\t\t=> women: 345900\n",
      "\t\t=> men: 272729\n",
      "\t=> 75 - 79 let:\n",
      "\t\t=> women: 249134\n",
      "\t\t=> men: 170234\n",
      "\t=> 80 - 84 let:\n",
      "\t\t=> women: 153868\n",
      "\t\t=> men: 89505\n",
      "\t=> 85 - 89 let:\n",
      "\t\t=> women: 92099\n",
      "\t\t=> men: 43212\n",
      "\t=> 90 - 94 let:\n",
      "\t\t=> women: 38676\n",
      "\t\t=> men: 14110\n",
      "\t=> 95 - 99 let:\n",
      "\t\t=> women: 7926\n",
      "\t\t=> men: 1927\n",
      "\t=> 100 a více let:\n",
      "\t\t=> women: 536\n",
      "\t\t=> men: 111\n",
      "\n",
      "Celkový počet obyvatel podle věkoých fází:\n",
      "\t=> deti:\n"
     ]
    },
    {
     "ename": "AttributeError",
     "evalue": "'int' object has no attribute 'items'",
     "output_type": "error",
     "traceback": [
      "\u001b[0;31m---------------------------------------------------------------------------\u001b[0m",
      "\u001b[0;31mAttributeError\u001b[0m                            Traceback (most recent call last)",
      "Cell \u001b[0;32mIn[25], line 7\u001b[0m\n\u001b[1;32m      1\u001b[0m \u001b[38;5;66;03m# Celkový počet obyvatel\u001b[39;00m\n\u001b[1;32m      2\u001b[0m \u001b[38;5;66;03m# print(f\"Celkový počet obyvatel: {format_with_commas(analysis_result['count'])}\")\u001b[39;00m\n\u001b[1;32m      3\u001b[0m \u001b[38;5;66;03m# print(f\"\\nCelkový počet žen: {format_with_commas(analysis_result['count_women'])} ({(analysis_result['count_women'] / analysis_result['count'])*100:.2f}%)\")\u001b[39;00m\n\u001b[1;32m      4\u001b[0m \u001b[38;5;66;03m# print(f\"\\nCelkový počet muž: {format_with_commas(analysis_result['count_men'])} ({(analysis_result['count_men'] / analysis_result['count'])*100:.2f}%)\")\u001b[39;00m\n\u001b[1;32m      5\u001b[0m \u001b[38;5;66;03m# print_dictionary_ages(\"\\nCelkový počet obyvatel podle věku:\", analysis_result['count_ages'])\u001b[39;00m\n\u001b[1;32m      6\u001b[0m print_dictionary_ages_sex(\u001b[38;5;124m\"\u001b[39m\u001b[38;5;130;01m\\n\u001b[39;00m\u001b[38;5;124mCelkový počet obyvatel podle věku a pohlaví:\u001b[39m\u001b[38;5;124m\"\u001b[39m, analysis_result[\u001b[38;5;124m'\u001b[39m\u001b[38;5;124mcount_age_sex\u001b[39m\u001b[38;5;124m'\u001b[39m])\n\u001b[0;32m----> 7\u001b[0m \u001b[43mprint_dictionary_ages_sex\u001b[49m\u001b[43m(\u001b[49m\u001b[38;5;124;43m\"\u001b[39;49m\u001b[38;5;130;43;01m\\n\u001b[39;49;00m\u001b[38;5;124;43mCelkový počet obyvatel podle věkoých fází:\u001b[39;49m\u001b[38;5;124;43m\"\u001b[39;49m\u001b[43m,\u001b[49m\u001b[43m \u001b[49m\u001b[43manalysis_result\u001b[49m\u001b[43m[\u001b[49m\u001b[38;5;124;43m'\u001b[39;49m\u001b[38;5;124;43mcount_age_phase\u001b[39;49m\u001b[38;5;124;43m'\u001b[39;49m\u001b[43m]\u001b[49m\u001b[43m)\u001b[49m\n",
      "Cell \u001b[0;32mIn[11], line 16\u001b[0m, in \u001b[0;36mprint_dictionary_ages_sex\u001b[0;34m(text, dict)\u001b[0m\n\u001b[1;32m     14\u001b[0m \u001b[38;5;28;01mfor\u001b[39;00m key, value \u001b[38;5;129;01min\u001b[39;00m \u001b[38;5;28mdict\u001b[39m\u001b[38;5;241m.\u001b[39mitems():\n\u001b[1;32m     15\u001b[0m     \u001b[38;5;28mprint\u001b[39m(\u001b[38;5;124mf\u001b[39m\u001b[38;5;124m\"\u001b[39m\u001b[38;5;130;01m\\t\u001b[39;00m\u001b[38;5;124m=> \u001b[39m\u001b[38;5;132;01m{\u001b[39;00mkey\u001b[38;5;132;01m}\u001b[39;00m\u001b[38;5;124m:\u001b[39m\u001b[38;5;124m\"\u001b[39m)\n\u001b[0;32m---> 16\u001b[0m     \u001b[38;5;28;01mfor\u001b[39;00m key, value \u001b[38;5;129;01min\u001b[39;00m \u001b[43mvalue\u001b[49m\u001b[38;5;241;43m.\u001b[39;49m\u001b[43mitems\u001b[49m():\n\u001b[1;32m     17\u001b[0m         \u001b[38;5;28mprint\u001b[39m(\u001b[38;5;124mf\u001b[39m\u001b[38;5;124m\"\u001b[39m\u001b[38;5;130;01m\\t\u001b[39;00m\u001b[38;5;130;01m\\t\u001b[39;00m\u001b[38;5;124m=> \u001b[39m\u001b[38;5;132;01m{\u001b[39;00mkey\u001b[38;5;132;01m}\u001b[39;00m\u001b[38;5;124m: \u001b[39m\u001b[38;5;132;01m{\u001b[39;00mvalue\u001b[38;5;132;01m}\u001b[39;00m\u001b[38;5;124m\"\u001b[39m)\n",
      "\u001b[0;31mAttributeError\u001b[0m: 'int' object has no attribute 'items'"
     ]
    }
   ],
   "source": [
    "# Celkový počet obyvatel\n",
    "# print(f\"Celkový počet obyvatel: {format_with_commas(analysis_result['count'])}\")\n",
    "# print(f\"\\nCelkový počet žen: {format_with_commas(analysis_result['count_women'])} ({(analysis_result['count_women'] / analysis_result['count'])*100:.2f}%)\")\n",
    "# print(f\"\\nCelkový počet muž: {format_with_commas(analysis_result['count_men'])} ({(analysis_result['count_men'] / analysis_result['count'])*100:.2f}%)\")\n",
    "# print_dictionary_ages(\"\\nCelkový počet obyvatel podle věku:\", analysis_result['count_ages'])\n",
    "# print_dictionary_ages_sex(\"\\nCelkový počet obyvatel podle věku a pohlaví:\", analysis_result['count_age_sex'])\n",
    "print_dictionary_ages(\"\\nCelkový počet obyvatel podle věkoých fází:\", analysis_result['count_age_phase'])\n",
    "print_dictionary_ages_sex(\"\\nCelkový počet obyvatel podle věkových fází a pohlaví:\", analysis_result['count_age_phase_sex'])"
   ]
  }
 ],
 "metadata": {
  "kernelspec": {
   "display_name": "Python 3",
   "language": "python",
   "name": "python3"
  },
  "language_info": {
   "codemirror_mode": {
    "name": "ipython",
    "version": 3
   },
   "file_extension": ".py",
   "mimetype": "text/x-python",
   "name": "python",
   "nbconvert_exporter": "python",
   "pygments_lexer": "ipython3",
   "version": "3.10.12"
  }
 },
 "nbformat": 4,
 "nbformat_minor": 2
}
