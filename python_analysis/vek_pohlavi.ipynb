{
 "cells": [
  {
   "cell_type": "markdown",
   "metadata": {},
   "source": [
    "# Analýza věku a pohlaví podle pětiletých věkových skupin"
   ]
  },
  {
   "cell_type": "markdown",
   "metadata": {},
   "source": [
    "### Import knihoven\n"
   ]
  },
  {
   "cell_type": "code",
   "execution_count": 10,
   "metadata": {},
   "outputs": [],
   "source": [
    "import pandas as pd\n",
    "import numpy as np"
   ]
  },
  {
   "cell_type": "markdown",
   "metadata": {},
   "source": [
    "### Definice pomocných funkcí"
   ]
  },
  {
   "cell_type": "code",
   "execution_count": 31,
   "metadata": {},
   "outputs": [
    {
     "name": "stdout",
     "output_type": "stream",
     "text": [
      "0\n"
     ]
    }
   ],
   "source": [
    "# https://www.czso.cz/csu/rso/uzemne_technicke_jednotky\n",
    "# https://scitani.gov.cz/vysledky\n",
    "# https://www.czso.cz/csu/czso/vysledky-scitani-2021-otevrena-data\n",
    "\n",
    "file_path = '../data_original/sldb2021_vek5_pohlavi.csv'\n",
    "chunk_size = 1000\n",
    "result = 0\n",
    "\n",
    "for chunk in pd.read_csv(file_path, chunksize=chunk_size, nrows=100000):\n",
    "    for index, row in chunk.iterrows():\n",
    "        row_result = row\n",
    "        row_result = row_result.astype(object).where(pd.notnull(row_result), None)\n",
    "        # print(f\"{row_result['pohlavi_txt']} - {type(row_result['pohlavi_txt'])}\")\n",
    "        # print(f\"{row_result['vek_txt']} - {type(row_result['vek_txt'])}\")\n",
    "        if row_result['uzemi_cis'] == 101 and row_result['pohlavi_txt'] is None and row_result['vek_txt'] is None:\n",
    "            result += row_result['hodnota']\n",
    "\n",
    "print(result)"
   ]
  }
 ],
 "metadata": {
  "kernelspec": {
   "display_name": "Python 3",
   "language": "python",
   "name": "python3"
  },
  "language_info": {
   "codemirror_mode": {
    "name": "ipython",
    "version": 3
   },
   "file_extension": ".py",
   "mimetype": "text/x-python",
   "name": "python",
   "nbconvert_exporter": "python",
   "pygments_lexer": "ipython3",
   "version": "3.10.12"
  }
 },
 "nbformat": 4,
 "nbformat_minor": 2
}
